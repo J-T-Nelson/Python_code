{
 "cells": [
  {
   "attachments": {},
   "cell_type": "markdown",
   "metadata": {},
   "source": [
    "# Lab 9: Document Analysis"
   ]
  },
  {
   "attachments": {},
   "cell_type": "markdown",
   "metadata": {},
   "source": [
    "## Load Data"
   ]
  },
  {
   "cell_type": "code",
   "execution_count": 1,
   "metadata": {},
   "outputs": [
    {
     "name": "stdout",
     "output_type": "stream",
     "text": [
      "d:\\Programming\\Python_code\\PrinciplesOfDS_Course\\Labs\n"
     ]
    }
   ],
   "source": [
    "import os   \n",
    "print(os.getcwd())"
   ]
  },
  {
   "cell_type": "code",
   "execution_count": 2,
   "metadata": {},
   "outputs": [],
   "source": [
    "import numpy as np\n",
    "import matplotlib.pyplot as plt\n",
    "import pandas as pd \n",
    "\n",
    "data = pd.read_csv('./Data/BBC_News_Train.csv')"
   ]
  },
  {
   "cell_type": "code",
   "execution_count": 3,
   "metadata": {},
   "outputs": [
    {
     "name": "stdout",
     "output_type": "stream",
     "text": [
      "   ArticleId                                               Text  Category\n",
      "0       1833  worldcom ex-boss launches defence lawyers defe...  business\n",
      "1        154  german business confidence slides german busin...  business\n",
      "2       1101  bbc poll indicates economic gloom citizens in ...  business\n",
      "3       1976  lifestyle  governs mobile choice  faster  bett...      tech\n",
      "4        917  enron bosses in $168m payout eighteen former e...  business\n",
      "<class 'pandas.core.frame.DataFrame'>\n",
      "RangeIndex: 1490 entries, 0 to 1489\n",
      "Data columns (total 3 columns):\n",
      " #   Column     Non-Null Count  Dtype \n",
      "---  ------     --------------  ----- \n",
      " 0   ArticleId  1490 non-null   int64 \n",
      " 1   Text       1490 non-null   object\n",
      " 2   Category   1490 non-null   object\n",
      "dtypes: int64(1), object(2)\n",
      "memory usage: 35.0+ KB\n",
      "None\n",
      "(1490, 3)\n",
      "298.0\n"
     ]
    }
   ],
   "source": [
    "# Inspect data\n",
    "print(data.head())\n",
    "print(data.info())\n",
    "print(data.shape)\n",
    "\n",
    "print(1490*.2) # 298 A viable split value "
   ]
  },
  {
   "cell_type": "code",
   "execution_count": 4,
   "metadata": {},
   "outputs": [
    {
     "name": "stdout",
     "output_type": "stream",
     "text": [
      "(1191, 3) (298, 3)\n"
     ]
    }
   ],
   "source": [
    "# split data\n",
    "data_train, data_test = data.iloc[:1191,], data.iloc[1192:,]\n",
    "print(data_train.shape, data_test.shape) # looks good "
   ]
  },
  {
   "attachments": {},
   "cell_type": "markdown",
   "metadata": {},
   "source": [
    "## Represent Docs with TF-IDF "
   ]
  },
  {
   "cell_type": "code",
   "execution_count": 6,
   "metadata": {},
   "outputs": [
    {
     "name": "stdout",
     "output_type": "stream",
     "text": [
      "(1191, 22453) (298, 22453)\n"
     ]
    }
   ],
   "source": [
    "from sklearn.feature_extraction.text import TfidfVectorizer\n",
    "\n",
    "#TF-IDF representation for each document\n",
    "vectorizer = TfidfVectorizer()\n",
    "data_train_vectors = vectorizer.fit_transform(data_train.Text)\n",
    "data_test_vectors = vectorizer.transform(data_test.Text) \n",
    "\n",
    "print(data_train_vectors.shape, data_test_vectors.shape) "
   ]
  },
  {
   "cell_type": "code",
   "execution_count": 8,
   "metadata": {},
   "outputs": [
    {
     "name": "stdout",
     "output_type": "stream",
     "text": [
      "<class 'scipy.sparse._csr.csr_matrix'>\n",
      "22453\n",
      "['00' '000' '000bn' ... 'zuluaga' 'zurich' 'zvonareva']\n"
     ]
    }
   ],
   "source": [
    "# inspect contents of vectorized documents\n",
    "print(type(data_train_vectors))\n",
    "print(len(vectorizer.get_feature_names_out())) # 22,453\n",
    "print(vectorizer.get_feature_names_out()) \n",
    "# cols = terms, rows = docs \n"
   ]
  },
  {
   "attachments": {},
   "cell_type": "markdown",
   "metadata": {},
   "source": [
    "## KNN Document classification: \n"
   ]
  },
  {
   "cell_type": "code",
   "execution_count": 9,
   "metadata": {},
   "outputs": [
    {
     "name": "stdout",
     "output_type": "stream",
     "text": [
      "0.9101613867304245\n",
      "{'n_neighbors': 4}\n"
     ]
    }
   ],
   "source": [
    "from sklearn.model_selection import GridSearchCV\n",
    "from sklearn.neighbors import KNeighborsClassifier\n",
    "from sklearn.metrics import accuracy_score, f1_score\n",
    "\n",
    "\n",
    "Xtr = data_train_vectors\n",
    "Ytr = data_train.Category\n",
    "\n",
    "Xte = data_test_vectors\n",
    "Yte = data_test.Category\n",
    "\n",
    "k_range = range(1, 5)\n",
    "param_grid = dict(n_neighbors=k_range)\n",
    "\n",
    "clf_knn =  KNeighborsClassifier(n_neighbors=1)\n",
    "\n",
    "grid = GridSearchCV(clf_knn, param_grid, cv=5, scoring='accuracy')\n",
    "grid.fit(Xtr, Ytr)\n",
    "\n",
    "print(grid.best_score_)\n",
    "print(grid.best_params_)"
   ]
  },
  {
   "cell_type": "code",
   "execution_count": 10,
   "metadata": {},
   "outputs": [
    {
     "name": "stdout",
     "output_type": "stream",
     "text": [
      "               precision    recall  f1-score   support\n",
      "\n",
      "     business       0.94      0.85      0.89        68\n",
      "entertainment       0.93      0.89      0.91        64\n",
      "     politics       0.84      0.90      0.87        59\n",
      "        sport       0.94      0.98      0.96        60\n",
      "         tech       0.94      0.98      0.96        47\n",
      "\n",
      "     accuracy                           0.92       298\n",
      "    macro avg       0.92      0.92      0.92       298\n",
      " weighted avg       0.92      0.92      0.92       298\n",
      "\n"
     ]
    }
   ],
   "source": [
    "from sklearn.metrics import classification_report\n",
    "# running prediction and inspecting a classification report \n",
    "Yte_pred = grid.predict(Xte)\n",
    "print(classification_report(Yte, Yte_pred))\n"
   ]
  },
  {
   "attachments": {},
   "cell_type": "markdown",
   "metadata": {},
   "source": [
    "#### Discussion of KNN: \n",
    "The data is fairly well balanced, with only techn being substantially lower in the number of samples available. The calssifier is pretty effective, which is in stark contrast to the KNN's results when used on the larger data set in the example provided to us for this lab. \n"
   ]
  },
  {
   "attachments": {},
   "cell_type": "markdown",
   "metadata": {},
   "source": [
    "## Logistic Regression Document Classification"
   ]
  },
  {
   "cell_type": "code",
   "execution_count": 15,
   "metadata": {},
   "outputs": [
    {
     "name": "stdout",
     "output_type": "stream",
     "text": [
      "{'C': 8}\n",
      "0.9731543624161074 0.9722015242878761 0.9731543624161074\n"
     ]
    }
   ],
   "source": [
    "from sklearn.linear_model import LogisticRegression\n",
    "\n",
    "#=====training with cross validation======\n",
    "coeff = range(1, 10)\n",
    "param_grid = dict(C=coeff)\n",
    "\n",
    "clf_lr = LogisticRegression(penalty='l2')\n",
    "\n",
    "grid = GridSearchCV(clf_lr, param_grid, cv=5, scoring='accuracy')\n",
    "grid.fit(Xtr, Ytr)\n",
    "\n",
    "print(grid.best_params_)\n",
    "\n",
    "#=====testing======\n",
    "clf_lr = LogisticRegression(penalty='l2', C=grid.best_params_['C']) # fitting new model on entire data set after finding best hyperparameter\n",
    "clf_lr.fit(Xtr, Ytr)\n",
    "\n",
    "y_pred = clf_lr.predict(Xte)\n",
    "\n",
    "acc = accuracy_score(Yte, y_pred)\n",
    "macro_f1 = f1_score(Yte, y_pred, average='macro')\n",
    "micro_f1 = f1_score(Yte, y_pred, average='micro')\n",
    "\n",
    "print(acc, macro_f1, micro_f1)"
   ]
  },
  {
   "cell_type": "code",
   "execution_count": 17,
   "metadata": {},
   "outputs": [
    {
     "name": "stdout",
     "output_type": "stream",
     "text": [
      "               precision    recall  f1-score   support\n",
      "\n",
      "     business       0.99      0.99      0.99        68\n",
      "entertainment       0.98      0.95      0.97        64\n",
      "     politics       0.96      0.93      0.95        59\n",
      "        sport       1.00      1.00      1.00        60\n",
      "         tech       0.92      1.00      0.96        47\n",
      "\n",
      "     accuracy                           0.97       298\n",
      "    macro avg       0.97      0.97      0.97       298\n",
      " weighted avg       0.97      0.97      0.97       298\n",
      "\n",
      "               precision    recall  f1-score   support\n",
      "\n",
      "     business       0.99      0.99      0.99        68\n",
      "entertainment       0.98      0.95      0.97        64\n",
      "     politics       0.96      0.93      0.95        59\n",
      "        sport       1.00      1.00      1.00        60\n",
      "         tech       0.92      1.00      0.96        47\n",
      "\n",
      "     accuracy                           0.97       298\n",
      "    macro avg       0.97      0.97      0.97       298\n",
      " weighted avg       0.97      0.97      0.97       298\n",
      "\n",
      "<class 'sklearn.linear_model._logistic.LogisticRegression'> <class 'sklearn.model_selection._search.GridSearchCV'>\n"
     ]
    }
   ],
   "source": [
    "# classification report:\n",
    "Yte_pred = grid.predict(Xte)\n",
    "print(classification_report(Yte, Yte_pred)) # interesting I can get the same predictions from two differente objects... learn about why \n",
    "\n",
    "print(classification_report(Yte, y_pred))\n",
    "\n",
    "print(type(clf_lr), type(grid))\n",
    "# <class 'sklearn.linear_model._logistic.LogisticRegression'> <class 'sklearn.model_selection._search.GridSearchCV'>\n",
    "# ^^ so maybe the GridSearchCV is wrapping the linear model, Not clear on why we see two instances of fitting happening here though. Should ask for explanations.. "
   ]
  },
  {
   "attachments": {},
   "cell_type": "markdown",
   "metadata": {},
   "source": [
    "## Kmeans Clustering for Document Classification"
   ]
  },
  {
   "cell_type": "code",
   "execution_count": 28,
   "metadata": {},
   "outputs": [
    {
     "name": "stderr",
     "output_type": "stream",
     "text": [
      "c:\\Users\\Tanner_N\\AppData\\Local\\Python\\lib\\site-packages\\sklearn\\cluster\\_kmeans.py:870: FutureWarning: The default value of `n_init` will change from 10 to 'auto' in 1.4. Set the value of `n_init` explicitly to suppress the warning\n",
      "  warnings.warn(\n",
      "c:\\Users\\Tanner_N\\AppData\\Local\\Python\\lib\\site-packages\\sklearn\\cluster\\_kmeans.py:870: FutureWarning: The default value of `n_init` will change from 10 to 'auto' in 1.4. Set the value of `n_init` explicitly to suppress the warning\n",
      "  warnings.warn(\n",
      "c:\\Users\\Tanner_N\\AppData\\Local\\Python\\lib\\site-packages\\sklearn\\cluster\\_kmeans.py:870: FutureWarning: The default value of `n_init` will change from 10 to 'auto' in 1.4. Set the value of `n_init` explicitly to suppress the warning\n",
      "  warnings.warn(\n",
      "c:\\Users\\Tanner_N\\AppData\\Local\\Python\\lib\\site-packages\\sklearn\\cluster\\_kmeans.py:870: FutureWarning: The default value of `n_init` will change from 10 to 'auto' in 1.4. Set the value of `n_init` explicitly to suppress the warning\n",
      "  warnings.warn(\n",
      "c:\\Users\\Tanner_N\\AppData\\Local\\Python\\lib\\site-packages\\sklearn\\cluster\\_kmeans.py:870: FutureWarning: The default value of `n_init` will change from 10 to 'auto' in 1.4. Set the value of `n_init` explicitly to suppress the warning\n",
      "  warnings.warn(\n",
      "c:\\Users\\Tanner_N\\AppData\\Local\\Python\\lib\\site-packages\\sklearn\\cluster\\_kmeans.py:870: FutureWarning: The default value of `n_init` will change from 10 to 'auto' in 1.4. Set the value of `n_init` explicitly to suppress the warning\n",
      "  warnings.warn(\n",
      "c:\\Users\\Tanner_N\\AppData\\Local\\Python\\lib\\site-packages\\sklearn\\cluster\\_kmeans.py:870: FutureWarning: The default value of `n_init` will change from 10 to 'auto' in 1.4. Set the value of `n_init` explicitly to suppress the warning\n",
      "  warnings.warn(\n",
      "c:\\Users\\Tanner_N\\AppData\\Local\\Python\\lib\\site-packages\\sklearn\\cluster\\_kmeans.py:870: FutureWarning: The default value of `n_init` will change from 10 to 'auto' in 1.4. Set the value of `n_init` explicitly to suppress the warning\n",
      "  warnings.warn(\n",
      "c:\\Users\\Tanner_N\\AppData\\Local\\Python\\lib\\site-packages\\sklearn\\cluster\\_kmeans.py:870: FutureWarning: The default value of `n_init` will change from 10 to 'auto' in 1.4. Set the value of `n_init` explicitly to suppress the warning\n",
      "  warnings.warn(\n",
      "c:\\Users\\Tanner_N\\AppData\\Local\\Python\\lib\\site-packages\\sklearn\\cluster\\_kmeans.py:870: FutureWarning: The default value of `n_init` will change from 10 to 'auto' in 1.4. Set the value of `n_init` explicitly to suppress the warning\n",
      "  warnings.warn(\n",
      "c:\\Users\\Tanner_N\\AppData\\Local\\Python\\lib\\site-packages\\sklearn\\cluster\\_kmeans.py:870: FutureWarning: The default value of `n_init` will change from 10 to 'auto' in 1.4. Set the value of `n_init` explicitly to suppress the warning\n",
      "  warnings.warn(\n",
      "c:\\Users\\Tanner_N\\AppData\\Local\\Python\\lib\\site-packages\\sklearn\\cluster\\_kmeans.py:870: FutureWarning: The default value of `n_init` will change from 10 to 'auto' in 1.4. Set the value of `n_init` explicitly to suppress the warning\n",
      "  warnings.warn(\n",
      "c:\\Users\\Tanner_N\\AppData\\Local\\Python\\lib\\site-packages\\sklearn\\cluster\\_kmeans.py:870: FutureWarning: The default value of `n_init` will change from 10 to 'auto' in 1.4. Set the value of `n_init` explicitly to suppress the warning\n",
      "  warnings.warn(\n",
      "c:\\Users\\Tanner_N\\AppData\\Local\\Python\\lib\\site-packages\\sklearn\\cluster\\_kmeans.py:870: FutureWarning: The default value of `n_init` will change from 10 to 'auto' in 1.4. Set the value of `n_init` explicitly to suppress the warning\n",
      "  warnings.warn(\n",
      "c:\\Users\\Tanner_N\\AppData\\Local\\Python\\lib\\site-packages\\sklearn\\cluster\\_kmeans.py:870: FutureWarning: The default value of `n_init` will change from 10 to 'auto' in 1.4. Set the value of `n_init` explicitly to suppress the warning\n",
      "  warnings.warn(\n"
     ]
    },
    {
     "name": "stdout",
     "output_type": "stream",
     "text": [
      "{'n_init': 30}\n"
     ]
    }
   ],
   "source": [
    "from sklearn.cluster import KMeans\n",
    "from sklearn.metrics.cluster import normalized_mutual_info_score\n",
    "\n",
    "#=====training with cross validation======\n",
    "n_clusters = [5]\n",
    "param_grid = [dict(n_clusters=n_clusters), dict(n_init=[5,10,20,30]), dict(init=['k-means++', 'random'])]\n",
    "\n",
    "clf_kmeans = KMeans()\n",
    "\n",
    "grid = GridSearchCV(clf_kmeans, param_grid, cv=5, scoring='normalized_mutual_info_score')\n",
    "grid.fit(Xtr, Ytr)\n",
    "\n",
    "print(grid.best_params_)\n",
    "\n"
   ]
  },
  {
   "cell_type": "code",
   "execution_count": 31,
   "metadata": {},
   "outputs": [],
   "source": [
    "#=====testing======\n",
    "y_pred = grid.predict(Xte)\n",
    "# clf_kmeans = KMeans(n_clusters=grid.best_params_['n_clusters'], n_init=15)\n",
    "# clf_kmeans.fit(Xtr, Ytr)\n",
    "\n",
    "# y_pred = clf_kmeans.predict(Xte)\n",
    "\n",
    "# acc = accuracy_score(Yte, y_pred)\n",
    "# macro_f1 = f1_score(Yte, y_pred, average='macro')\n",
    "# micro_f1 = f1_score(Yte, y_pred, average='micro')\n",
    "\n",
    "# print(acc, macro_f1, micro_f1)"
   ]
  },
  {
   "cell_type": "code",
   "execution_count": 33,
   "metadata": {},
   "outputs": [
    {
     "name": "stdout",
     "output_type": "stream",
     "text": [
      "0.6139903533390151 {'n_init': 30}\n",
      "[1 4 1 1 6 1 4 2 2 3 7 5 1 2 5 0 2 1 1 6 4 3 0 0 4 3 0 4 2 3 5 3 1 7 1 3 4\n",
      " 4 4 3 5 1 2 7 2 4 3 3 2 4 0 1 2 7 1 0 1 1 1 2 2 0 1 2 7 1 2 6 1 2 1 3 1 2\n",
      " 2 3 5 1 2 4 7 1 1 1 7 1 3 1 3 1 1 1 2 1 3 5 1 2 1 5 1 3 7 4 5 1 1 1 3 0 1\n",
      " 3 1 5 1 0 5 1 4 5 1 3 2 3 5 1 3 5 5 0 0 2 1 4 7 4 1 0 1 6 1 4 1 3 2 1 0 1\n",
      " 2 1 4 3 6 1 1 1 3 2 4 1 2 2 5 3 1 0 4 2 2 1 6 5 1 2 7 5 1 1 5 5 3 1 1 1 1\n",
      " 0 2 0 0 2 1 7 5 7 3 1 5 1 2 4 6 2 4 1 3 6 2 1 1 3 4 2 1 0 2 4 1 2 4 0 2 3\n",
      " 2 1 0 7 5 2 2 2 1 0 7 4 2 1 3 1 4 1 0 4 2 2 1 6 5 6 3 6 2 3 2 1 0 1 3 0 1\n",
      " 1 0 2 2 5 1 4 7 2 2 5 1 1 5 5 7 3 3 5 7 2 2 3 1 0 4 5 1 1 1 3 5 1 1 2 2 1\n",
      " 6 5]\n"
     ]
    }
   ],
   "source": [
    "print(grid.best_score_, grid.best_params_)\n",
    "print(y_pred)\n"
   ]
  },
  {
   "cell_type": "code",
   "execution_count": 30,
   "metadata": {},
   "outputs": [
    {
     "name": "stdout",
     "output_type": "stream",
     "text": [
      "['__abstractmethods__', '__class__', '__delattr__', '__dict__', '__dir__', '__doc__', '__eq__', '__format__', '__ge__', '__getattribute__', '__getstate__', '__gt__', '__hash__', '__init__', '__init_subclass__', '__le__', '__lt__', '__module__', '__ne__', '__new__', '__reduce__', '__reduce_ex__', '__repr__', '__setattr__', '__setstate__', '__sizeof__', '__str__', '__subclasshook__', '__weakref__', '_abc_impl', '_check_feature_names', '_check_n_features', '_check_refit_for_multimetric', '_estimator_type', '_format_results', '_get_param_names', '_get_tags', '_more_tags', '_repr_html_', '_repr_html_inner', '_repr_mimebundle_', '_required_parameters', '_run_search', '_select_best_index', '_validate_data', '_validate_params', 'best_estimator_', 'best_index_', 'best_params_', 'best_score_', 'classes_', 'cv', 'cv_results_', 'decision_function', 'error_score', 'estimator', 'fit', 'get_params', 'inverse_transform', 'multimetric_', 'n_features_in_', 'n_jobs', 'n_splits_', 'param_grid', 'pre_dispatch', 'predict', 'predict_log_proba', 'predict_proba', 'refit', 'refit_time_', 'return_train_score', 'score', 'score_samples', 'scorer_', 'scoring', 'set_params', 'transform', 'verbose']\n",
      "<bound method BaseEstimator.get_params of GridSearchCV(cv=5, estimator=KMeans(),\n",
      "             param_grid=[{'n_clusters': [5]}, {'n_init': [5, 10, 20, 30]},\n",
      "                         {'init': ['k-means++', 'random']}],\n",
      "             scoring='normalized_mutual_info_score')>\n"
     ]
    }
   ],
   "source": [
    "print(dir(grid))\n",
    "print(grid.get_params)"
   ]
  },
  {
   "cell_type": "code",
   "execution_count": 41,
   "metadata": {},
   "outputs": [
    {
     "name": "stdout",
     "output_type": "stream",
     "text": [
      "NMI for n_clusters = 4, init = k-means++, n_init = 20 ==> 0.5963024728506824\n",
      "NMI for n_clusters = 4, init = random, n_init = 20 ==> 0.6694490003239375\n",
      "NMI for n_clusters = 4, init = k-means++, n_init = 30 ==> 0.5721736023635929\n",
      "NMI for n_clusters = 4, init = random, n_init = 30 ==> 0.5816922143139323\n",
      "NMI for n_clusters = 4, init = k-means++, n_init = 50 ==> 0.6313921886154923\n",
      "NMI for n_clusters = 4, init = random, n_init = 50 ==> 0.6190349706617118\n",
      "NMI for n_clusters = 4, init = k-means++, n_init = 100 ==> 0.6254957403648274\n",
      "NMI for n_clusters = 4, init = random, n_init = 100 ==> 0.6953031093168366\n",
      "NMI for n_clusters = 5, init = k-means++, n_init = 20 ==> 0.6912449958227307\n",
      "NMI for n_clusters = 5, init = random, n_init = 20 ==> 0.6112186968478724\n",
      "NMI for n_clusters = 5, init = k-means++, n_init = 30 ==> 0.6548555410504593\n",
      "NMI for n_clusters = 5, init = random, n_init = 30 ==> 0.6262900231726729\n",
      "NMI for n_clusters = 5, init = k-means++, n_init = 50 ==> 0.629081225377893\n",
      "NMI for n_clusters = 5, init = random, n_init = 50 ==> 0.6160306682665826\n",
      "NMI for n_clusters = 5, init = k-means++, n_init = 100 ==> 0.581528417051274\n",
      "NMI for n_clusters = 5, init = random, n_init = 100 ==> 0.7000818743732812\n",
      "NMI for n_clusters = 6, init = k-means++, n_init = 20 ==> 0.6581933868007593\n",
      "NMI for n_clusters = 6, init = random, n_init = 20 ==> 0.5274062118287668\n",
      "NMI for n_clusters = 6, init = k-means++, n_init = 30 ==> 0.6581526357032309\n",
      "NMI for n_clusters = 6, init = random, n_init = 30 ==> 0.6495684562631263\n",
      "NMI for n_clusters = 6, init = k-means++, n_init = 50 ==> 0.656806191618634\n",
      "NMI for n_clusters = 6, init = random, n_init = 50 ==> 0.6810316578478517\n",
      "NMI for n_clusters = 6, init = k-means++, n_init = 100 ==> 0.6249970373806736\n",
      "NMI for n_clusters = 6, init = random, n_init = 100 ==> 0.7371282298789026\n",
      "Best of each category:\n",
      "Best nmi 0.7371282298789026\n",
      "Best k cluster 6\n",
      "Best n_init 100\n",
      "Best init random\n"
     ]
    }
   ],
   "source": [
    "# Having trouble with gridSearchCV for KMeans, going to go for manual approach now\n",
    "test_k = [4,5,6]\n",
    "test_n_init = [20, 30, 50, 100]\n",
    "test_init = ['k-means++', 'random']\n",
    "\n",
    "best_nmi = 0\n",
    "best_k = None\n",
    "best_n_init = None\n",
    "best_init = None\n",
    "\n",
    "for k in test_k:\n",
    "    for n in test_n_init:\n",
    "        for init in test_init:\n",
    "            temp_cluster = KMeans(n_clusters=k, init=init, n_init=n).fit(Xtr)\n",
    "            temp_nmi = normalized_mutual_info_score(temp_cluster.labels_, Ytr, average_method='arithmetic')\n",
    "            print(f\"NMI for n_clusters = {k}, init = {init}, n_init = {n} ==> {temp_nmi}\")\n",
    "            if(temp_nmi > best_nmi):\n",
    "                best_nmi = temp_nmi\n",
    "                best_k = k\n",
    "                best_n_init = n\n",
    "                best_init = init\n",
    "\n",
    "print(\"Best of each category:\\nBest nmi {}\\nBest k cluster {}\\nBest n_init {}\\nBest init {}\".format(best_nmi, best_k, best_n_init, best_init))"
   ]
  },
  {
   "attachments": {},
   "cell_type": "markdown",
   "metadata": {},
   "source": [
    "KMeans seems quite sensitive to the initialization state, I found an NMI of .82 on 5 clusters once with 50 = n_init, though its not consistantly able to produce that high result. So higher n_init == better outcome here. "
   ]
  },
  {
   "cell_type": "code",
   "execution_count": 44,
   "metadata": {},
   "outputs": [
    {
     "name": "stdout",
     "output_type": "stream",
     "text": [
      "0.7568773989425172\n"
     ]
    }
   ],
   "source": [
    "# training KMeans after finding best params:\n",
    "km_cluster = KMeans(n_clusters=5, init='k-means++', n_init=1000).fit(Xtr)\n",
    "km_nmi = normalized_mutual_info_score(km_cluster.labels_, Ytr, average_method='arithmetic')\n",
    "print(km_nmi)"
   ]
  },
  {
   "cell_type": "code",
   "execution_count": 52,
   "metadata": {},
   "outputs": [
    {
     "name": "stdout",
     "output_type": "stream",
     "text": [
      "<class 'numpy.ndarray'> ['00' '000' '000bn' ... 'zuluaga' 'zurich' 'zvonareva']\n",
      "Cluster 1: ['the', 'to', 'of', 'and', 'in', 'that', 'is', 'it', 'are', 'for']\n",
      "Cluster 2: ['the', 'and', 'in', 'of', 'to', 'film', 'for', 'best', 'on', 'was']\n",
      "Cluster 3: ['the', 'to', 'in', 'of', 'and', 'said', 'its', 'that', 'it', 'for']\n",
      "Cluster 4: ['the', 'to', 'of', 'mr', 'and', 'he', 'labour', 'in', 'election', 'blair']\n",
      "Cluster 5: ['the', 'to', 'in', 'and', 'of', 'he', 'his', 'we', 'but', 'it']\n"
     ]
    }
   ],
   "source": [
    "# Find top 10 representative words per cluster: \n",
    "centroids = km_cluster.cluster_centers_\n",
    "feature_names = vectorizer.get_feature_names_out()\n",
    "\n",
    "for i in range(5):\n",
    "    indx = centroids[i].argsort()[-10:][::-1]\n",
    "    top_features = [feature_names[index] for index in indx]\n",
    "    print(f\"Cluster {i+1}: {top_features}\")"
   ]
  },
  {
   "cell_type": "code",
   "execution_count": null,
   "metadata": {},
   "outputs": [],
   "source": [
    "print(type(centroids))\n",
    "\n",
    "for i in range(5):\n",
    "    indx = centroids[i].argsort()[:10]\n",
    "    top_features = [feature_names[index] for index in indx]\n",
    "    print(f\"Cluster {i+1}: {top_features}\")\n",
    "    print(f\"Values at indices: {centroids[i][indx]}\")"
   ]
  },
  {
   "cell_type": "code",
   "execution_count": 49,
   "metadata": {},
   "outputs": [
    {
     "name": "stdout",
     "output_type": "stream",
     "text": [
      "[1 1 0 2 0 2 1 4 4 4 2 0 2 1 0 3 4 0 0 0 1 4 3 3 1 4 3 1 1 4 0 4 2 2 2 4 1\n",
      " 1 1 4 0 1 1 3 1 1 4 4 4 1 3 2 4 2 0 3 2 2 2 4 4 3 2 1 2 2 3 0 2 1 3 4 2 0\n",
      " 4 4 0 2 1 1 2 3 2 4 2 2 4 0 4 3 2 2 1 0 4 0 2 1 2 0 0 4 2 1 0 2 3 2 4 3 0\n",
      " 4 0 0 2 3 0 2 1 0 2 4 1 4 0 0 4 0 0 3 3 4 3 1 2 1 0 3 4 0 2 1 2 4 1 0 3 2\n",
      " 1 2 1 4 0 2 2 4 4 1 1 2 1 1 0 4 0 3 1 4 3 0 0 0 0 3 2 0 2 2 0 0 4 2 2 0 2\n",
      " 3 4 3 3 1 2 2 0 2 4 3 0 2 1 1 0 1 1 2 4 0 2 2 2 4 1 4 2 3 4 1 3 0 1 3 1 4\n",
      " 1 0 3 2 0 1 4 4 0 3 2 1 1 2 4 3 1 2 3 1 4 4 3 0 0 0 4 0 1 4 1 2 3 2 4 3 2\n",
      " 2 3 1 3 0 3 1 2 4 0 0 1 3 0 0 2 4 4 0 2 4 0 4 2 3 1 0 3 2 2 4 0 1 2 1 1 2\n",
      " 0 0]\n"
     ]
    }
   ],
   "source": [
    "# predicting:\n",
    "km_y_pred = km_cluster.predict(Xte)\n",
    "print(km_y_pred)"
   ]
  },
  {
   "cell_type": "code",
   "execution_count": 48,
   "metadata": {},
   "outputs": [
    {
     "name": "stdout",
     "output_type": "stream",
     "text": [
      "[4, 6, 7, 1, 23, 7, 82, 1, 28, 28, 6, 26]\n",
      "[7, 1, 23, 7, 82, 1, 28, 28, 6, 26]\n",
      "[6, 26]\n",
      "[26, 6, 28, 28, 1, 82, 7, 23, 1, 7]\n",
      "[7, 6, 4]\n"
     ]
    }
   ],
   "source": [
    "a = [4,6,7,1,23,7,82,1,28,28,6,26]\n",
    "print(a)\n",
    "print(a[-10:])\n",
    "print(a[10:])\n",
    "\n",
    "print(a[-10:][::-1]) # from the back, 10 in, then reverse the order of the result. \n",
    "\n",
    "print(a[-10::-1]) # so from the back, 10 in, to the end, but reverse the direction, so to the start "
   ]
  },
  {
   "cell_type": "code",
   "execution_count": null,
   "metadata": {},
   "outputs": [],
   "source": []
  },
  {
   "cell_type": "code",
   "execution_count": null,
   "metadata": {},
   "outputs": [],
   "source": []
  },
  {
   "cell_type": "code",
   "execution_count": null,
   "metadata": {},
   "outputs": [],
   "source": []
  },
  {
   "cell_type": "code",
   "execution_count": null,
   "metadata": {},
   "outputs": [],
   "source": []
  },
  {
   "cell_type": "code",
   "execution_count": null,
   "metadata": {},
   "outputs": [],
   "source": []
  },
  {
   "cell_type": "code",
   "execution_count": null,
   "metadata": {},
   "outputs": [],
   "source": []
  },
  {
   "cell_type": "code",
   "execution_count": null,
   "metadata": {},
   "outputs": [],
   "source": []
  },
  {
   "cell_type": "code",
   "execution_count": null,
   "metadata": {},
   "outputs": [],
   "source": []
  },
  {
   "cell_type": "code",
   "execution_count": null,
   "metadata": {},
   "outputs": [],
   "source": []
  },
  {
   "cell_type": "code",
   "execution_count": null,
   "metadata": {},
   "outputs": [],
   "source": []
  },
  {
   "cell_type": "code",
   "execution_count": null,
   "metadata": {},
   "outputs": [],
   "source": []
  },
  {
   "cell_type": "code",
   "execution_count": null,
   "metadata": {},
   "outputs": [],
   "source": []
  },
  {
   "cell_type": "code",
   "execution_count": null,
   "metadata": {},
   "outputs": [],
   "source": []
  },
  {
   "cell_type": "code",
   "execution_count": null,
   "metadata": {},
   "outputs": [],
   "source": []
  },
  {
   "cell_type": "code",
   "execution_count": null,
   "metadata": {},
   "outputs": [],
   "source": []
  },
  {
   "cell_type": "code",
   "execution_count": null,
   "metadata": {},
   "outputs": [],
   "source": []
  },
  {
   "cell_type": "code",
   "execution_count": null,
   "metadata": {},
   "outputs": [],
   "source": []
  },
  {
   "cell_type": "code",
   "execution_count": null,
   "metadata": {},
   "outputs": [],
   "source": []
  },
  {
   "cell_type": "code",
   "execution_count": null,
   "metadata": {},
   "outputs": [],
   "source": []
  },
  {
   "cell_type": "code",
   "execution_count": null,
   "metadata": {},
   "outputs": [],
   "source": []
  },
  {
   "cell_type": "code",
   "execution_count": null,
   "metadata": {},
   "outputs": [],
   "source": []
  },
  {
   "cell_type": "code",
   "execution_count": null,
   "metadata": {},
   "outputs": [],
   "source": []
  },
  {
   "cell_type": "code",
   "execution_count": null,
   "metadata": {},
   "outputs": [],
   "source": []
  },
  {
   "cell_type": "code",
   "execution_count": null,
   "metadata": {},
   "outputs": [],
   "source": []
  },
  {
   "cell_type": "code",
   "execution_count": null,
   "metadata": {},
   "outputs": [],
   "source": []
  },
  {
   "cell_type": "code",
   "execution_count": null,
   "metadata": {},
   "outputs": [],
   "source": []
  }
 ],
 "metadata": {
  "kernelspec": {
   "display_name": "Python 3",
   "language": "python",
   "name": "python3"
  },
  "language_info": {
   "codemirror_mode": {
    "name": "ipython",
    "version": 3
   },
   "file_extension": ".py",
   "mimetype": "text/x-python",
   "name": "python",
   "nbconvert_exporter": "python",
   "pygments_lexer": "ipython3",
   "version": "3.10.4"
  },
  "orig_nbformat": 4
 },
 "nbformat": 4,
 "nbformat_minor": 2
}
