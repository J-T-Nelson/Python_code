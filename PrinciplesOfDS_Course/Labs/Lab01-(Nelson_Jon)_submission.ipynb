{
 "cells": [
  {
   "cell_type": "code",
   "execution_count": null,
   "metadata": {},
   "outputs": [],
   "source": [
    "#List practice\n",
    "l1 = ['cat', 'dog', 'dang']\n",
    "l2 = ['cats', 'dogs', 'dang sweater']\n",
    "# l3 = l1.extend(l2) # CANNOT assign this way... \n",
    "l3 = l1\n",
    "l3.extend(l2)\n",
    "print(l3)\n",
    "\n",
    "for item in l1:\n",
    "    print(item)\n",
    "for item in l2:\n",
    "    print(item)\n",
    "for item in l3:\n",
    "   print(item)"
   ]
  },
  {
   "cell_type": "code",
   "execution_count": null,
   "metadata": {},
   "outputs": [],
   "source": [
    "for i in range(len(l3)):\n",
    "    print(\"Item\", i, \":\", l3[i])\n",
    "\n",
    "l4 = l3\n",
    "l4.append(\"ham\")\n",
    "print(l3, l4) # we can see that appending something by variable name l4 did not successfully create a new array... \n",
    "\n",
    "l5 = l3.copy()\n",
    "l5.append(\"happy\")\n",
    "print(l3, l4, l5) # copy does work for allocating new memory to a variable \n",
    "\n",
    "for o in l3:\n",
    "    o = \"new \" + o \n",
    "    l5.append(o)\n",
    "print(l5)"
   ]
  },
  {
   "cell_type": "code",
   "execution_count": null,
   "metadata": {},
   "outputs": [],
   "source": [
    "#list indexing / slicing\n",
    "\n",
    "print(l5[::2])\n",
    "print(l5[-1::-1])\n",
    "\n",
    "l5.insert(2, \"ample patience\")\n",
    "print(l5)\n",
    "l5.remove(\"new ham\")\n",
    "print(l5)"
   ]
  },
  {
   "cell_type": "code",
   "execution_count": null,
   "metadata": {},
   "outputs": [],
   "source": [
    "# Tuples: \n",
    "\n",
    "t1 = tuple(l5)\n",
    "print(t1[2:10])\n",
    "print(t1[2:-7])\n",
    "\n",
    "someTerms = t1[:3]\n",
    "(term1, term2, term3) = someTerms\n",
    "print(term1,term2,term3)\n",
    "\n",
    "s=''\n",
    "for o in t1:\n",
    "    s+=o\n",
    "print(s.replace(' ', ''))"
   ]
  },
  {
   "cell_type": "code",
   "execution_count": null,
   "metadata": {},
   "outputs": [],
   "source": [
    "# Dictionaries \n",
    "\n",
    "dict1 = {}\n",
    "wordLen = [len(word) for word in l5]\n",
    "print(wordLen)\n",
    "\n",
    "for count, word in enumerate(l5):\n",
    "    dict1[word] = wordLen[count]\n",
    "print(dict1)\n",
    "print(dict1.values())\n",
    "print(dict1.keys())\n",
    "print(dict1.items())\n",
    "\n",
    "dict1.update({\"new dogs\" : \"twenty seven\"})\n",
    "print(dict1)\n",
    "dict1.update({\"new Hand Type sound device\" : \"ffffffffffffffffffffffffffffffffffffffffffffff\"})\n",
    "print(dict1)\n",
    "\n",
    "dict1.pop(\"ham\")\n",
    "print(dict1)\n",
    "\n",
    "for k in dict1.keys():\n",
    "    print(k)"
   ]
  },
  {
   "cell_type": "code",
   "execution_count": null,
   "metadata": {},
   "outputs": [],
   "source": [
    "# Part 2 importing data \n",
    "import pandas as pd\n",
    "import numpy as np\n",
    "\n",
    "carsDF = pd.read_csv(\"./Data/cars.csv\")\n",
    "X = carsDF.values[:, 1:-1]\n",
    "print(type(X))\n",
    "print(X.shape)\n",
    "print(X)\n",
    "\n",
    "#documentation suggests using .to_numpy() instead of .values() ... why though? \n",
    "X2 = carsDF.to_numpy()[:, 1:-1]\n",
    "print(type(X2))\n",
    "print(X2.shape)\n",
    "print(X2)"
   ]
  },
  {
   "cell_type": "code",
   "execution_count": null,
   "metadata": {},
   "outputs": [],
   "source": [
    "# subsetting\n",
    "x1 = X2[0,:] # first row\n",
    "x2 = X2[-1,:] # last row \n",
    "x12sum = x1+x2\n",
    "print(\"sum\", x12sum)\n",
    "\n",
    "x3 = X2[:5,:] # first 5 \n",
    "x4 = X2[-5:,:] # last 5 \n",
    "x34sub = x3-x4\n",
    "print(\"subtract\", x34sub)\n",
    "\n",
    "\n",
    "c1 = X2[:,0] # col 1\n",
    "c2 = X2[:, -2] # 2nd to last col \n",
    "print(\"col1\",c1)\n",
    "print(\"co2\",c2)\n",
    "\n",
    "c12sub = c1-c2\n",
    "c12sum = c1+c2\n",
    "c12inner = np.inner(c1,c2)\n",
    "c12mult = np.multiply(c1,c2)\n",
    "print(\"col sub\", c12sub)\n",
    "print(\"col sum\",c12sum)\n",
    "print(\"col inner\",c12inner)\n",
    "print(\"col multiply\",c12mult)\n",
    "\n",
    "nrm1 = np.linalg.norm(c1, ord=1) \n",
    "nrm2 = np.linalg.norm(c1, ord=2) \n",
    "nrmINF = np.linalg.norm(c1, ord=np.inf) \n",
    "print(\"1 norm\",nrm1)\n",
    "print(\"1 norm\",nrm2)\n",
    "print(\"1 norm\",nrmINF)\n",
    "\n",
    "distC12 = np.linalg.norm(c1-c2, ord=2)\n",
    "print(\"distance using 2-norm\",distC12)"
   ]
  },
  {
   "cell_type": "code",
   "execution_count": null,
   "metadata": {},
   "outputs": [],
   "source": [
    "# get first and last 3 cols \n",
    "\n",
    "A = X[:, :3]\n",
    "print(\"A\",A)\n",
    "B = X[:,-3:]\n",
    "print(\"B\",B, \"B shape\", B.shape)\n",
    "\n",
    "matSum = A+B\n",
    "matSub = A-B\n",
    "print(\"matSum\\n\",matSum, \"\\n\", \"matSub\\n\", matSub)"
   ]
  },
  {
   "cell_type": "code",
   "execution_count": null,
   "metadata": {},
   "outputs": [],
   "source": [
    "#printSpace... limit... maybe find an option for the extension? \n",
    "\n",
    "C = np.transpose(B)\n",
    "print(C.shape)\n",
    "\n",
    "#AC = A*C # not sure if this is element wise multiplication... its not the dot product\n",
    "AC = np.dot(A,C) \n",
    "print(\"shape AC:\",AC.shape,\"\\n\",\"AC:\\n\",AC)\n",
    "#print(help(np))\n",
    "T1 = np.full((3,3), 2)\n",
    "T2 = np.full((3,3), 3)\n",
    "print(T1*T2) # yeah its element wise multiplication "
   ]
  },
  {
   "cell_type": "code",
   "execution_count": 21,
   "metadata": {},
   "outputs": [
    {
     "name": "stdout",
     "output_type": "stream",
     "text": [
      "D shape: (3, 406)\n",
      "D:\n",
      " [[18.0 15.0 18.0 ... 32.0 28.0 31.0]\n",
      " [8 8 8 ... 4 4 4]\n",
      " [307.0 350.0 318.0 ... 135.0 120.0 119.0]]\n"
     ]
    }
   ],
   "source": [
    "D = np.transpose(A)\n",
    "print(\"D shape:\", D.shape)\n",
    "\n",
    "DB = np.dot(D,B)\n",
    "print(\"D:\\n\",D)\n"
   ]
  }
 ],
 "metadata": {
  "kernelspec": {
   "display_name": "Python 3",
   "language": "python",
   "name": "python3"
  },
  "language_info": {
   "codemirror_mode": {
    "name": "ipython",
    "version": 3
   },
   "file_extension": ".py",
   "mimetype": "text/x-python",
   "name": "python",
   "nbconvert_exporter": "python",
   "pygments_lexer": "ipython3",
   "version": "3.10.4"
  },
  "orig_nbformat": 4,
  "vscode": {
   "interpreter": {
    "hash": "6fa2c8eb31e883fb5a22fbf67621de023b5dc228d46f0c7fcdad9efff2c48063"
   }
  }
 },
 "nbformat": 4,
 "nbformat_minor": 2
}
