{
 "cells": [
  {
   "cell_type": "code",
   "execution_count": 2,
   "metadata": {},
   "outputs": [
    {
     "name": "stdout",
     "output_type": "stream",
     "text": [
      "d:\\Programming\\Python_code\\PrinciplesOfDS_Course\\Labs\n"
     ]
    }
   ],
   "source": [
    "import os\n",
    "print(os.getcwd())"
   ]
  },
  {
   "cell_type": "code",
   "execution_count": 3,
   "metadata": {},
   "outputs": [
    {
     "name": "stdout",
     "output_type": "stream",
     "text": [
      "<class 'pandas.core.frame.DataFrame'>\n",
      "RangeIndex: 1338 entries, 0 to 1337\n",
      "Data columns (total 7 columns):\n",
      " #   Column    Non-Null Count  Dtype  \n",
      "---  ------    --------------  -----  \n",
      " 0   age       1338 non-null   int64  \n",
      " 1   sex       1338 non-null   object \n",
      " 2   bmi       1338 non-null   float64\n",
      " 3   children  1338 non-null   int64  \n",
      " 4   smoker    1338 non-null   object \n",
      " 5   region    1338 non-null   object \n",
      " 6   charges   1338 non-null   float64\n",
      "dtypes: float64(2), int64(2), object(3)\n",
      "memory usage: 73.3+ KB\n"
     ]
    },
    {
     "data": {
      "text/html": [
       "<div>\n",
       "<style scoped>\n",
       "    .dataframe tbody tr th:only-of-type {\n",
       "        vertical-align: middle;\n",
       "    }\n",
       "\n",
       "    .dataframe tbody tr th {\n",
       "        vertical-align: top;\n",
       "    }\n",
       "\n",
       "    .dataframe thead th {\n",
       "        text-align: right;\n",
       "    }\n",
       "</style>\n",
       "<table border=\"1\" class=\"dataframe\">\n",
       "  <thead>\n",
       "    <tr style=\"text-align: right;\">\n",
       "      <th></th>\n",
       "      <th>age</th>\n",
       "      <th>sex</th>\n",
       "      <th>bmi</th>\n",
       "      <th>children</th>\n",
       "      <th>smoker</th>\n",
       "      <th>region</th>\n",
       "      <th>charges</th>\n",
       "    </tr>\n",
       "  </thead>\n",
       "  <tbody>\n",
       "    <tr>\n",
       "      <th>0</th>\n",
       "      <td>19</td>\n",
       "      <td>female</td>\n",
       "      <td>27.900</td>\n",
       "      <td>0</td>\n",
       "      <td>yes</td>\n",
       "      <td>southwest</td>\n",
       "      <td>16884.92400</td>\n",
       "    </tr>\n",
       "    <tr>\n",
       "      <th>1</th>\n",
       "      <td>18</td>\n",
       "      <td>male</td>\n",
       "      <td>33.770</td>\n",
       "      <td>1</td>\n",
       "      <td>no</td>\n",
       "      <td>southeast</td>\n",
       "      <td>1725.55230</td>\n",
       "    </tr>\n",
       "    <tr>\n",
       "      <th>2</th>\n",
       "      <td>28</td>\n",
       "      <td>male</td>\n",
       "      <td>33.000</td>\n",
       "      <td>3</td>\n",
       "      <td>no</td>\n",
       "      <td>southeast</td>\n",
       "      <td>4449.46200</td>\n",
       "    </tr>\n",
       "    <tr>\n",
       "      <th>3</th>\n",
       "      <td>33</td>\n",
       "      <td>male</td>\n",
       "      <td>22.705</td>\n",
       "      <td>0</td>\n",
       "      <td>no</td>\n",
       "      <td>northwest</td>\n",
       "      <td>21984.47061</td>\n",
       "    </tr>\n",
       "    <tr>\n",
       "      <th>4</th>\n",
       "      <td>32</td>\n",
       "      <td>male</td>\n",
       "      <td>28.880</td>\n",
       "      <td>0</td>\n",
       "      <td>no</td>\n",
       "      <td>northwest</td>\n",
       "      <td>3866.85520</td>\n",
       "    </tr>\n",
       "  </tbody>\n",
       "</table>\n",
       "</div>"
      ],
      "text/plain": [
       "   age     sex     bmi  children smoker     region      charges\n",
       "0   19  female  27.900         0    yes  southwest  16884.92400\n",
       "1   18    male  33.770         1     no  southeast   1725.55230\n",
       "2   28    male  33.000         3     no  southeast   4449.46200\n",
       "3   33    male  22.705         0     no  northwest  21984.47061\n",
       "4   32    male  28.880         0     no  northwest   3866.85520"
      ]
     },
     "execution_count": 3,
     "metadata": {},
     "output_type": "execute_result"
    }
   ],
   "source": [
    "import pandas as pd\n",
    "dt = pd.read_csv(\".\\\\Data\\\\insurance.csv\")\n",
    "dt.info()\n",
    "dt.head()"
   ]
  },
  {
   "attachments": {},
   "cell_type": "markdown",
   "metadata": {},
   "source": [
    "## Q1: \n",
    "\n",
    "As can be seen by the output above, there are 3 categorical features: sex, smoker, and region. "
   ]
  },
  {
   "cell_type": "code",
   "execution_count": 4,
   "metadata": {},
   "outputs": [
    {
     "data": {
      "text/plain": [
       "age         0.0\n",
       "sex         0.0\n",
       "bmi         0.0\n",
       "children    0.0\n",
       "smoker      0.0\n",
       "region      0.0\n",
       "charges     0.0\n",
       "dtype: float64"
      ]
     },
     "execution_count": 4,
     "metadata": {},
     "output_type": "execute_result"
    }
   ],
   "source": [
    "# checking for missing values by getting a percentage of each col \n",
    "\n",
    "dt.isnull().sum()/dt.shape[0]"
   ]
  },
  {
   "attachments": {},
   "cell_type": "markdown",
   "metadata": {},
   "source": [
    "## Q2: \n",
    "\n",
    "No data is missing from this table. "
   ]
  },
  {
   "cell_type": "code",
   "execution_count": 5,
   "metadata": {},
   "outputs": [
    {
     "data": {
      "text/plain": [
       "array([[<AxesSubplot: title={'center': 'age'}>,\n",
       "        <AxesSubplot: title={'center': 'bmi'}>],\n",
       "       [<AxesSubplot: title={'center': 'children'}>,\n",
       "        <AxesSubplot: title={'center': 'charges'}>]], dtype=object)"
      ]
     },
     "execution_count": 5,
     "metadata": {},
     "output_type": "execute_result"
    },
    {
     "data": {
      "image/png": "[encoded data removed]",
      "text/plain": [
       "<Figure size 640x480 with 4 Axes>"
      ]
     },
     "metadata": {},
     "output_type": "display_data"
    }
   ],
   "source": [
    "# visualizing numerical features \n",
    "\n",
    "dt.hist(column=['age', 'bmi', 'children', 'charges'], bins=25)"
   ]
  },
  {
   "cell_type": "code",
   "execution_count": 6,
   "metadata": {},
   "outputs": [
    {
     "name": "stderr",
     "output_type": "stream",
     "text": [
      "C:\\Users\\Tanner_N\\AppData\\Local\\Temp\\ipykernel_2320\\896946349.py:3: FutureWarning: The default value of numeric_only in DataFrame.corr is deprecated. In a future version, it will default to False. Select only valid columns or specify the value of numeric_only to silence this warning.\n",
      "  corrs = dt.corr()\n"
     ]
    },
    {
     "data": {
      "text/html": [
       "<style type=\"text/css\">\n",
       "#T_e305d_row0_col0, #T_e305d_row1_col1, #T_e305d_row2_col2, #T_e305d_row3_col3 {\n",
       "  background-color: #08306b;\n",
       "  color: #f1f1f1;\n",
       "}\n",
       "#T_e305d_row0_col1 {\n",
       "  background-color: #e3eef9;\n",
       "  color: #000000;\n",
       "}\n",
       "#T_e305d_row0_col2 {\n",
       "  background-color: #f2f7fd;\n",
       "  color: #000000;\n",
       "}\n",
       "#T_e305d_row0_col3 {\n",
       "  background-color: #c7dbef;\n",
       "  color: #000000;\n",
       "}\n",
       "#T_e305d_row1_col0 {\n",
       "  background-color: #eaf2fb;\n",
       "  color: #000000;\n",
       "}\n",
       "#T_e305d_row1_col2, #T_e305d_row2_col0, #T_e305d_row2_col1, #T_e305d_row2_col3 {\n",
       "  background-color: #f7fbff;\n",
       "  color: #000000;\n",
       "}\n",
       "#T_e305d_row1_col3 {\n",
       "  background-color: #dce9f6;\n",
       "  color: #000000;\n",
       "}\n",
       "#T_e305d_row3_col0 {\n",
       "  background-color: #c1d9ed;\n",
       "  color: #000000;\n",
       "}\n",
       "#T_e305d_row3_col1 {\n",
       "  background-color: #d2e3f3;\n",
       "  color: #000000;\n",
       "}\n",
       "#T_e305d_row3_col2 {\n",
       "  background-color: #ecf4fb;\n",
       "  color: #000000;\n",
       "}\n",
       "</style>\n",
       "<table id=\"T_e305d\">\n",
       "  <thead>\n",
       "    <tr>\n",
       "      <th class=\"blank level0\" >&nbsp;</th>\n",
       "      <th id=\"T_e305d_level0_col0\" class=\"col_heading level0 col0\" >age</th>\n",
       "      <th id=\"T_e305d_level0_col1\" class=\"col_heading level0 col1\" >bmi</th>\n",
       "      <th id=\"T_e305d_level0_col2\" class=\"col_heading level0 col2\" >children</th>\n",
       "      <th id=\"T_e305d_level0_col3\" class=\"col_heading level0 col3\" >charges</th>\n",
       "    </tr>\n",
       "  </thead>\n",
       "  <tbody>\n",
       "    <tr>\n",
       "      <th id=\"T_e305d_level0_row0\" class=\"row_heading level0 row0\" >age</th>\n",
       "      <td id=\"T_e305d_row0_col0\" class=\"data row0 col0\" >1.000000</td>\n",
       "      <td id=\"T_e305d_row0_col1\" class=\"data row0 col1\" >0.109272</td>\n",
       "      <td id=\"T_e305d_row0_col2\" class=\"data row0 col2\" >0.042469</td>\n",
       "      <td id=\"T_e305d_row0_col3\" class=\"data row0 col3\" >0.299008</td>\n",
       "    </tr>\n",
       "    <tr>\n",
       "      <th id=\"T_e305d_level0_row1\" class=\"row_heading level0 row1\" >bmi</th>\n",
       "      <td id=\"T_e305d_row1_col0\" class=\"data row1 col0\" >0.109272</td>\n",
       "      <td id=\"T_e305d_row1_col1\" class=\"data row1 col1\" >1.000000</td>\n",
       "      <td id=\"T_e305d_row1_col2\" class=\"data row1 col2\" >0.012759</td>\n",
       "      <td id=\"T_e305d_row1_col3\" class=\"data row1 col3\" >0.198341</td>\n",
       "    </tr>\n",
       "    <tr>\n",
       "      <th id=\"T_e305d_level0_row2\" class=\"row_heading level0 row2\" >children</th>\n",
       "      <td id=\"T_e305d_row2_col0\" class=\"data row2 col0\" >0.042469</td>\n",
       "      <td id=\"T_e305d_row2_col1\" class=\"data row2 col1\" >0.012759</td>\n",
       "      <td id=\"T_e305d_row2_col2\" class=\"data row2 col2\" >1.000000</td>\n",
       "      <td id=\"T_e305d_row2_col3\" class=\"data row2 col3\" >0.067998</td>\n",
       "    </tr>\n",
       "    <tr>\n",
       "      <th id=\"T_e305d_level0_row3\" class=\"row_heading level0 row3\" >charges</th>\n",
       "      <td id=\"T_e305d_row3_col0\" class=\"data row3 col0\" >0.299008</td>\n",
       "      <td id=\"T_e305d_row3_col1\" class=\"data row3 col1\" >0.198341</td>\n",
       "      <td id=\"T_e305d_row3_col2\" class=\"data row3 col2\" >0.067998</td>\n",
       "      <td id=\"T_e305d_row3_col3\" class=\"data row3 col3\" >1.000000</td>\n",
       "    </tr>\n",
       "  </tbody>\n",
       "</table>\n"
      ],
      "text/plain": [
       "<pandas.io.formats.style.Styler at 0x2271bb45f00>"
      ]
     },
     "execution_count": 6,
     "metadata": {},
     "output_type": "execute_result"
    }
   ],
   "source": [
    "# Q4 : inspecting correlations between features \n",
    "\n",
    "corrs = dt.corr()\n",
    "corrs.style.background_gradient(cmap=\"Blues\")\n"
   ]
  },
  {
   "cell_type": "code",
   "execution_count": 7,
   "metadata": {},
   "outputs": [
    {
     "data": {
      "text/plain": [
       "<AxesSubplot: title={'center': 'Smoker'}>"
      ]
     },
     "execution_count": 7,
     "metadata": {},
     "output_type": "execute_result"
    },
    {
     "data": {
      "image/png": "[encoded data removed]",
      "text/plain": [
       "<Figure size 640x480 with 1 Axes>"
      ]
     },
     "metadata": {},
     "output_type": "display_data"
    }
   ],
   "source": [
    "# Q5 : visualizing categorical features - Smoker bar chart\n",
    "\n",
    "dt['smoker'].value_counts().plot(kind='bar', title='Smoker')"
   ]
  },
  {
   "cell_type": "code",
   "execution_count": 8,
   "metadata": {},
   "outputs": [
    {
     "data": {
      "text/plain": [
       "<AxesSubplot: title={'center': 'Region'}>"
      ]
     },
     "execution_count": 8,
     "metadata": {},
     "output_type": "execute_result"
    },
    {
     "data": {
      "image/png": "[encoded data removed]",
      "text/plain": [
       "<Figure size 640x480 with 1 Axes>"
      ]
     },
     "metadata": {},
     "output_type": "display_data"
    }
   ],
   "source": [
    "# Region bar chart\n",
    "dt['region'].value_counts().plot(kind='bar', title='Region')"
   ]
  },
  {
   "cell_type": "code",
   "execution_count": 9,
   "metadata": {},
   "outputs": [
    {
     "data": {
      "text/plain": [
       "<AxesSubplot: title={'center': 'Sex'}>"
      ]
     },
     "execution_count": 9,
     "metadata": {},
     "output_type": "execute_result"
    },
    {
     "data": {
      "image/png": "[encoded data removed]",
      "text/plain": [
       "<Figure size 640x480 with 1 Axes>"
      ]
     },
     "metadata": {},
     "output_type": "display_data"
    }
   ],
   "source": [
    "# Sex bar chart \n",
    "dt['sex'].value_counts().plot(kind='bar', title='Sex')\n"
   ]
  },
  {
   "cell_type": "code",
   "execution_count": 10,
   "metadata": {},
   "outputs": [
    {
     "name": "stdout",
     "output_type": "stream",
     "text": [
      "[1 1 1 1 0 0 0 1 0 1 0 1 0 1 1 0 1 1 1]\n"
     ]
    },
    {
     "data": {
      "text/html": [
       "<div>\n",
       "<style scoped>\n",
       "    .dataframe tbody tr th:only-of-type {\n",
       "        vertical-align: middle;\n",
       "    }\n",
       "\n",
       "    .dataframe tbody tr th {\n",
       "        vertical-align: top;\n",
       "    }\n",
       "\n",
       "    .dataframe thead th {\n",
       "        text-align: right;\n",
       "    }\n",
       "</style>\n",
       "<table border=\"1\" class=\"dataframe\">\n",
       "  <thead>\n",
       "    <tr style=\"text-align: right;\">\n",
       "      <th></th>\n",
       "      <th>age</th>\n",
       "      <th>sex</th>\n",
       "      <th>bmi</th>\n",
       "      <th>children</th>\n",
       "      <th>smoker</th>\n",
       "      <th>region</th>\n",
       "      <th>charges</th>\n",
       "    </tr>\n",
       "  </thead>\n",
       "  <tbody>\n",
       "    <tr>\n",
       "      <th>0</th>\n",
       "      <td>19</td>\n",
       "      <td>0</td>\n",
       "      <td>27.900</td>\n",
       "      <td>0</td>\n",
       "      <td>yes</td>\n",
       "      <td>southwest</td>\n",
       "      <td>16884.92400</td>\n",
       "    </tr>\n",
       "    <tr>\n",
       "      <th>1</th>\n",
       "      <td>18</td>\n",
       "      <td>1</td>\n",
       "      <td>33.770</td>\n",
       "      <td>1</td>\n",
       "      <td>no</td>\n",
       "      <td>southeast</td>\n",
       "      <td>1725.55230</td>\n",
       "    </tr>\n",
       "    <tr>\n",
       "      <th>2</th>\n",
       "      <td>28</td>\n",
       "      <td>1</td>\n",
       "      <td>33.000</td>\n",
       "      <td>3</td>\n",
       "      <td>no</td>\n",
       "      <td>southeast</td>\n",
       "      <td>4449.46200</td>\n",
       "    </tr>\n",
       "    <tr>\n",
       "      <th>3</th>\n",
       "      <td>33</td>\n",
       "      <td>1</td>\n",
       "      <td>22.705</td>\n",
       "      <td>0</td>\n",
       "      <td>no</td>\n",
       "      <td>northwest</td>\n",
       "      <td>21984.47061</td>\n",
       "    </tr>\n",
       "    <tr>\n",
       "      <th>4</th>\n",
       "      <td>32</td>\n",
       "      <td>1</td>\n",
       "      <td>28.880</td>\n",
       "      <td>0</td>\n",
       "      <td>no</td>\n",
       "      <td>northwest</td>\n",
       "      <td>3866.85520</td>\n",
       "    </tr>\n",
       "  </tbody>\n",
       "</table>\n",
       "</div>"
      ],
      "text/plain": [
       "   age  sex     bmi  children smoker     region      charges\n",
       "0   19    0  27.900         0    yes  southwest  16884.92400\n",
       "1   18    1  33.770         1     no  southeast   1725.55230\n",
       "2   28    1  33.000         3     no  southeast   4449.46200\n",
       "3   33    1  22.705         0     no  northwest  21984.47061\n",
       "4   32    1  28.880         0     no  northwest   3866.85520"
      ]
     },
     "execution_count": 10,
     "metadata": {},
     "output_type": "execute_result"
    }
   ],
   "source": [
    "# Q6 : Label Encoding of Categorical Features \n",
    "from sklearn.preprocessing import LabelEncoder\n",
    "\n",
    "LEnc = LabelEncoder()\n",
    "encoderTest = LEnc.fit_transform(dt['sex'])\n",
    "print(encoderTest[1:20])\n",
    "\n",
    "# Assigning encoded values to the feature \n",
    "\n",
    "dt['sex'] = encoderTest\n",
    "dt.head()"
   ]
  },
  {
   "cell_type": "code",
   "execution_count": 11,
   "metadata": {},
   "outputs": [
    {
     "data": {
      "text/html": [
       "<div>\n",
       "<style scoped>\n",
       "    .dataframe tbody tr th:only-of-type {\n",
       "        vertical-align: middle;\n",
       "    }\n",
       "\n",
       "    .dataframe tbody tr th {\n",
       "        vertical-align: top;\n",
       "    }\n",
       "\n",
       "    .dataframe thead th {\n",
       "        text-align: right;\n",
       "    }\n",
       "</style>\n",
       "<table border=\"1\" class=\"dataframe\">\n",
       "  <thead>\n",
       "    <tr style=\"text-align: right;\">\n",
       "      <th></th>\n",
       "      <th>age</th>\n",
       "      <th>sex</th>\n",
       "      <th>bmi</th>\n",
       "      <th>children</th>\n",
       "      <th>smoker</th>\n",
       "      <th>region</th>\n",
       "      <th>charges</th>\n",
       "    </tr>\n",
       "  </thead>\n",
       "  <tbody>\n",
       "    <tr>\n",
       "      <th>0</th>\n",
       "      <td>19</td>\n",
       "      <td>0</td>\n",
       "      <td>27.900</td>\n",
       "      <td>0</td>\n",
       "      <td>1</td>\n",
       "      <td>3</td>\n",
       "      <td>16884.92400</td>\n",
       "    </tr>\n",
       "    <tr>\n",
       "      <th>1</th>\n",
       "      <td>18</td>\n",
       "      <td>1</td>\n",
       "      <td>33.770</td>\n",
       "      <td>1</td>\n",
       "      <td>0</td>\n",
       "      <td>2</td>\n",
       "      <td>1725.55230</td>\n",
       "    </tr>\n",
       "    <tr>\n",
       "      <th>2</th>\n",
       "      <td>28</td>\n",
       "      <td>1</td>\n",
       "      <td>33.000</td>\n",
       "      <td>3</td>\n",
       "      <td>0</td>\n",
       "      <td>2</td>\n",
       "      <td>4449.46200</td>\n",
       "    </tr>\n",
       "    <tr>\n",
       "      <th>3</th>\n",
       "      <td>33</td>\n",
       "      <td>1</td>\n",
       "      <td>22.705</td>\n",
       "      <td>0</td>\n",
       "      <td>0</td>\n",
       "      <td>1</td>\n",
       "      <td>21984.47061</td>\n",
       "    </tr>\n",
       "    <tr>\n",
       "      <th>4</th>\n",
       "      <td>32</td>\n",
       "      <td>1</td>\n",
       "      <td>28.880</td>\n",
       "      <td>0</td>\n",
       "      <td>0</td>\n",
       "      <td>1</td>\n",
       "      <td>3866.85520</td>\n",
       "    </tr>\n",
       "  </tbody>\n",
       "</table>\n",
       "</div>"
      ],
      "text/plain": [
       "   age  sex     bmi  children  smoker  region      charges\n",
       "0   19    0  27.900         0       1       3  16884.92400\n",
       "1   18    1  33.770         1       0       2   1725.55230\n",
       "2   28    1  33.000         3       0       2   4449.46200\n",
       "3   33    1  22.705         0       0       1  21984.47061\n",
       "4   32    1  28.880         0       0       1   3866.85520"
      ]
     },
     "execution_count": 11,
     "metadata": {},
     "output_type": "execute_result"
    }
   ],
   "source": [
    "# finishing categorical feature conversion\n",
    "\n",
    "dt['region'] = LEnc.fit_transform(dt['region'])\n",
    "dt['smoker'] = LEnc.fit_transform(dt['smoker'])\n",
    "\n",
    "# all features are now numeric features. \n",
    "dt.head()"
   ]
  },
  {
   "cell_type": "code",
   "execution_count": 12,
   "metadata": {},
   "outputs": [
    {
     "name": "stdout",
     "output_type": "stream",
     "text": [
      "               age          sex          bmi     children       smoker  \\\n",
      "count  1338.000000  1338.000000  1338.000000  1338.000000  1338.000000   \n",
      "mean     39.207025     0.505232    30.663397     1.094918     0.204783   \n",
      "std      14.049960     0.500160     6.098187     1.205493     0.403694   \n",
      "min      18.000000     0.000000    15.960000     0.000000     0.000000   \n",
      "25%      27.000000     0.000000    26.296250     0.000000     0.000000   \n",
      "50%      39.000000     1.000000    30.400000     1.000000     0.000000   \n",
      "75%      51.000000     1.000000    34.693750     2.000000     0.000000   \n",
      "max      64.000000     1.000000    53.130000     5.000000     1.000000   \n",
      "\n",
      "            region       charges  \n",
      "count  1338.000000   1338.000000  \n",
      "mean      1.515695  13270.422265  \n",
      "std       1.104885  12110.011237  \n",
      "min       0.000000   1121.873900  \n",
      "25%       1.000000   4740.287150  \n",
      "50%       2.000000   9382.033000  \n",
      "75%       2.000000  16639.912515  \n",
      "max       3.000000  63770.428010  \n",
      "class of named reference <class 'pandas.core.series.Series'> Class of iloc reference <class 'pandas.core.frame.DataFrame'> Class of loc reference <class 'pandas.core.series.Series'>\n"
     ]
    },
    {
     "data": {
      "text/plain": [
       "<AxesSubplot: >"
      ]
     },
     "execution_count": 12,
     "metadata": {},
     "output_type": "execute_result"
    },
    {
     "data": {
      "image/png": "[encoded data removed]",
      "text/plain": [
       "<Figure size 640x480 with 1 Axes>"
      ]
     },
     "metadata": {},
     "output_type": "display_data"
    }
   ],
   "source": [
    "# Checking for outliers in each feature: \n",
    "#dt.iloc[:,0:1] # grab col by index. iloc = index location? \n",
    "#dt.iloc[:,0:1].boxplot() # visual inspection... not totally necessary \n",
    "\n",
    "# describe lets us know there aren't too many long tail outliers and our data is pretty tightly grouped except for the charges column. \n",
    "print(dt.describe())\n",
    "\n",
    "# visual inspection of 'charges' \n",
    "# dt['charges'].boxplot()\n",
    "print(\"class of named reference\", type(dt['charges']), \"Class of iloc reference\",type(dt.iloc[:, 6:]), \"Class of loc reference\", type(dt.loc[: ,'charges']))\n",
    "# class of named reference <class 'pandas.core.series.Series'> Class of iloc reference <class 'pandas.core frame.DataFrame'> Class of loc reference <class 'pandas.core.series.Series'>\n",
    "# as can be seen, different means of referencing actually referece different perspectives on the data structure. One grabs the column as a series, the other grabs it as a data frame, thus altering which methods can be called on the respective column. \n",
    "\n",
    "dt.iloc[:, 6:].boxplot()\n"
   ]
  },
  {
   "attachments": {},
   "cell_type": "markdown",
   "metadata": {},
   "source": [
    "As can be seen above in the charges boxplot, a substantial amount of the data exists as a long tail. At least 50% of the data is found in the 5000-18000 range, where as the total range is from 1000-64000, which suggests that the min-max normalization would be the incorrect method for normalization of this data as sensitivity to the substantial presence of outliers would be undesireable. "
   ]
  },
  {
   "cell_type": "code",
   "execution_count": 31,
   "metadata": {},
   "outputs": [
    {
     "name": "stdout",
     "output_type": "stream",
     "text": [
      "\n",
      "Mean:\n",
      "age            39.207025\n",
      "sex             0.505232\n",
      "bmi            30.663397\n",
      "children        1.094918\n",
      "smoker          0.204783\n",
      "region          1.515695\n",
      "charges     13270.422265\n",
      "dtype: float64\n",
      "Standard Deviation:\n",
      "age            14.044709\n",
      "sex             0.499973\n",
      "bmi             6.095908\n",
      "children        1.205042\n",
      "smoker          0.403543\n",
      "region          1.104472\n",
      "charges     12105.484976\n",
      "dtype: float64\n",
      "\n",
      "Mean type: <class 'pandas.core.series.Series'> SD type: <class 'pandas.core.series.Series'>\n",
      "\n",
      "Z-Score norm Scaled Data:\n",
      "           age       sex       bmi  children    smoker    region   charges\n",
      "0    -1.438764 -1.010519 -0.453320 -0.908614  1.970587  1.343905  0.298584\n",
      "1    -1.509965  0.989591  0.509621 -0.078767 -0.507463  0.438495 -0.953689\n",
      "2    -0.797954  0.989591  0.383307  1.580926 -0.507463  0.438495 -0.728675\n",
      "3    -0.441948  0.989591 -1.305531 -0.908614 -0.507463 -0.466915  0.719843\n",
      "4    -0.513149  0.989591 -0.292556 -0.908614 -0.507463 -0.466915 -0.776802\n",
      "...        ...       ...       ...       ...       ...       ...       ...\n",
      "1333  0.768473  0.989591  0.050297  1.580926 -0.507463 -0.466915 -0.220551\n",
      "1334 -1.509965 -1.010519  0.206139 -0.908614 -0.507463 -1.372326 -0.914002\n",
      "1335 -1.509965 -1.010519  1.014878 -0.908614 -0.507463  0.438495 -0.961596\n",
      "1336 -1.296362 -1.010519 -0.797813 -0.908614 -0.507463  1.343905 -0.930362\n",
      "1337  1.551686 -1.010519 -0.261388 -0.908614  1.970587 -0.466915  1.311053\n",
      "\n",
      "[1338 rows x 7 columns]\n"
     ]
    }
   ],
   "source": [
    "# normailizing all numerical features: \n",
    "import numpy as np\n",
    "\n",
    "xMean = np.mean(dt, axis=0) # axis specifies which axis of our matrix to traverse when calculating mean(). '0' is row wise, which means each columns mean is found. \n",
    "xStd = np.std(dt, axis=0)\n",
    "print(\"\\nMean:\\n\", xMean, \"\\nStandard Deviation:\\n\", xStd, sep='')\n",
    "print(\"\\nMean type: \", type(xMean), \" SD type: \", type(xStd),\"\\n\", sep='')\n",
    "\n",
    "X = (dt-xMean)/xStd \n",
    "print(\"Z-Score norm Scaled Data:\\n\", X, sep='')"
   ]
  },
  {
   "cell_type": "code",
   "execution_count": 30,
   "metadata": {},
   "outputs": [
    {
     "name": "stdout",
     "output_type": "stream",
     "text": [
      "[19 18 28 ... 18 21 61] \n",
      " 39.20702541106129 \n",
      " 14.044709038954522\n",
      "<class 'pandas.core.series.Series'> <class 'numpy.float64'> <class 'numpy.float64'>\n",
      "0      -1.438764\n",
      "1      -1.509965\n",
      "2      -0.797954\n",
      "3      -0.441948\n",
      "4      -0.513149\n",
      "          ...   \n",
      "1333    0.768473\n",
      "1334   -1.509965\n",
      "1335   -1.509965\n",
      "1336   -1.296362\n",
      "1337    1.551686\n",
      "Name: age, Length: 1338, dtype: float64 \n",
      " [-1.43876426 -1.50996545 -0.79795355 ... -1.50996545 -1.29636188\n",
      "  1.55168573]\n"
     ]
    }
   ],
   "source": [
    "# verifying math: \n",
    "age = dt['age']\n",
    "ageMean = xMean['age']\n",
    "ageStd = xStd['age']\n",
    "print(age.values, \"\\n\",ageMean, \"\\n\", ageStd)\n",
    "print(type(age), type(ageMean), type(ageStd))\n",
    "\n",
    "ageNormalized = (age-ageMean)/ageStd\n",
    "print(ageNormalized, \"\\n\", ageNormalized.values) # values look the same from the matrix wise calculation.. so we see that a series will operate column wise automatically when interacting with a dataFrame within pandas. As in value [1] of the series will be matched against all values in col [1] of the dataFrame"
   ]
  }
 ],
 "metadata": {
  "kernelspec": {
   "display_name": "Python 3",
   "language": "python",
   "name": "python3"
  },
  "language_info": {
   "codemirror_mode": {
    "name": "ipython",
    "version": 3
   },
   "file_extension": ".py",
   "mimetype": "text/x-python",
   "name": "python",
   "nbconvert_exporter": "python",
   "pygments_lexer": "ipython3",
   "version": "3.10.4"
  },
  "orig_nbformat": 4,
  "vscode": {
   "interpreter": {
    "hash": "6fa2c8eb31e883fb5a22fbf67621de023b5dc228d46f0c7fcdad9efff2c48063"
   }
  }
 },
 "nbformat": 4,
 "nbformat_minor": 2
}
