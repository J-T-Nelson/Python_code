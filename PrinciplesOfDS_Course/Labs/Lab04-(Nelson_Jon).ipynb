{
 "cells": [
  {
   "attachments": {},
   "cell_type": "markdown",
   "metadata": {},
   "source": [
    "# Lab 4: Logisitic Regression\n"
   ]
  },
  {
   "attachments": {},
   "cell_type": "markdown",
   "metadata": {},
   "source": [
    "## Import and Inspect Data"
   ]
  },
  {
   "cell_type": "code",
   "execution_count": 7,
   "metadata": {},
   "outputs": [
    {
     "name": "stdout",
     "output_type": "stream",
     "text": [
      "<class 'pandas.core.frame.DataFrame'>\n",
      "RangeIndex: 303 entries, 0 to 302\n",
      "Data columns (total 14 columns):\n",
      " #   Column    Non-Null Count  Dtype  \n",
      "---  ------    --------------  -----  \n",
      " 0   age       303 non-null    int64  \n",
      " 1   sex       303 non-null    int64  \n",
      " 2   cp        303 non-null    int64  \n",
      " 3   trestbps  303 non-null    int64  \n",
      " 4   chol      303 non-null    int64  \n",
      " 5   fbs       303 non-null    int64  \n",
      " 6   restecg   303 non-null    int64  \n",
      " 7   thalach   303 non-null    int64  \n",
      " 8   exang     303 non-null    int64  \n",
      " 9   oldpeak   303 non-null    float64\n",
      " 10  slope     303 non-null    int64  \n",
      " 11  ca        303 non-null    int64  \n",
      " 12  thal      303 non-null    int64  \n",
      " 13  target    303 non-null    int64  \n",
      "dtypes: float64(1), int64(13)\n",
      "memory usage: 33.3 KB\n",
      "None\n",
      "   age  sex  cp  trestbps  chol  fbs  restecg  thalach  exang  oldpeak  slope  ca  thal  target\n",
      "0   63    1   3       145   233    1        0      150      0      2.3      0   0     1       1\n",
      "1   37    1   2       130   250    0        1      187      0      3.5      0   0     2       1\n",
      "2   41    0   1       130   204    0        0      172      0      1.4      2   0     2       1\n",
      "3   56    1   1       120   236    0        1      178      0      0.8      2   0     2       1\n",
      "4   57    0   0       120   354    0        1      163      1      0.6      2   0     2       1\n"
     ]
    }
   ],
   "source": [
    "import numpy as np\n",
    "import pandas as pd \n",
    "import matplotlib.pyplot as plt\n",
    "\n",
    "heartData = pd.read_csv(\"D:\\Programming\\Python_code\\PrinciplesOfDS_Course\\Labs\\Data\\heart.csv\")\n",
    "print(heartData.info()) # all data types int or float, no non-numeric features. No categorical features to convert \n",
    "\n",
    "print(heartData.head())\n",
    "\n",
    "# Option setup: \n",
    "pd.set_option(\"display.max_rows\", 1500)\n",
    "pd.set_option(\"display.expand_frame_repr\", True)\n",
    "pd.set_option('display.width', 1000)\n"
   ]
  },
  {
   "cell_type": "code",
   "execution_count": 8,
   "metadata": {},
   "outputs": [
    {
     "data": {
      "text/plain": [
       "<AxesSubplot: >"
      ]
     },
     "execution_count": 8,
     "metadata": {},
     "output_type": "execute_result"
    },
    {
     "data": {
      "image/png": "[encoded data removed]",
      "text/plain": [
       "<Figure size 640x480 with 1 Axes>"
      ]
     },
     "metadata": {},
     "output_type": "display_data"
    }
   ],
   "source": [
    "# Check for missing values \n",
    "heartData.isna().sum()/heartData.shape[0] # all values 0. No missing values. \n",
    "\n",
    "# Visual inspection of target variable\n",
    "heartData.target.value_counts().plot(kind = 'bar') \n",
    "# Data is balanced with no significant dominance of samples by either of two categories. \n",
    "# balanced data means an accuracy measure is appropriate. "
   ]
  },
  {
   "attachments": {},
   "cell_type": "markdown",
   "metadata": {},
   "source": [
    "## Split and Normalize Data\n"
   ]
  },
  {
   "cell_type": "code",
   "execution_count": 9,
   "metadata": {},
   "outputs": [
    {
     "name": "stdout",
     "output_type": "stream",
     "text": [
      "(260, 13)\n",
      "(260,)\n"
     ]
    }
   ],
   "source": [
    "from sklearn.model_selection import train_test_split\n",
    "from sklearn.preprocessing import StandardScaler\n",
    "from sklearn.linear_model import LogisticRegression\n",
    "from sklearn.metrics import accuracy_score\n",
    "from sklearn.metrics import f1_score\n",
    "from sklearn.metrics import recall_score\n",
    "from sklearn.metrics import precision_score\n",
    "from random import shuffle\n",
    "import random\n",
    "\n",
    "X, y = heartData.drop(columns='target'), heartData.target\n",
    "\n",
    "# Subtle but important step for this cross-validation workflow: Convert y to ndarry\n",
    "y = y.to_numpy() ##########################\n",
    "\n",
    "# samples should be divided for same size folds, at 10 folds we need a value divisible by 10 \n",
    "X.shape[0] # 303 observations\n",
    "\n",
    "260/303 # 0.858085808580858 ; 85% of data for trainig and ~15% for testing is a good split ratio \n",
    "\n",
    "X_train_val, X_test, y_train_val, y_test = train_test_split(X, y, test_size= 0.14, random_state=2)\n",
    "\n",
    "print(X_train_val.shape) # correct split value achieved \n",
    "print(y_train_val.shape)\n",
    "\n",
    "normalizer = StandardScaler()\n",
    "X_train_val = normalizer.fit_transform(X_train_val)\n",
    "X_test = normalizer.transform(X_test)"
   ]
  },
  {
   "cell_type": "code",
   "execution_count": 10,
   "metadata": {},
   "outputs": [
    {
     "name": "stdout",
     "output_type": "stream",
     "text": [
      "(260,)\n",
      "index of folds\n",
      " [[ 48 155  36 251  52 160 152 203  44 233 254  12  56 144 130 191 135  80\n",
      "  168  78 100 171 117   0 170 229]\n",
      " [192 201  30 179 163  49 252  19 213   3 230 158  65 124 187 143 188  58\n",
      "  219   4 245  18 142 216  73 101]\n",
      " [161 126  98 221  89 199 180  68  25  34 190 162  11 129 153  32 259 107\n",
      "   47 116 200 131 110  79  67 234]\n",
      " [258  16   2 103 154 140  82 225  20  88  61 220 114 202  27 166 149  63\n",
      "   54  87 227 195 145  45   6 253]\n",
      " [  8 123  37  14  41 238 151  76 167  77 194 104  59 240 177  60  66   7\n",
      "  211  46 137 164 205  74  28 257]\n",
      " [  1 119 183 118 156  39  51  23 136  75 185  15  57 237 218  86  13 106\n",
      "  169 222 102 128 146 210  50 198]\n",
      " [ 62  91 255 209 157 241 232  26  35 108 196 236  83  99  95 182  53 214\n",
      "  133 239 204 122  69  17 181 228]\n",
      " [148 134 175 207  22 226 111 247 147  43  38 193 186 250  64 109  72   5\n",
      "  115 243  92 138 208 178 244 174]\n",
      " [172  85 113   9  10 197 121 249 215 212  24 112 120  21 132  33  84 231\n",
      "  176 127 248 139 246  55 256 224]\n",
      " [ 71 189  29 217 173 184 150  31  90  70  40 165 141 159 242 235  93  96\n",
      "   81  94  42 105 223  97 206 125]]\n",
      "reg_coeff: 99999.99999999999, acc: 0.562\n",
      "reg_coeff: 10000.0, acc: 0.562\n",
      "reg_coeff: 1000.0, acc: 0.662\n",
      "reg_coeff: 100.0, acc: 0.808\n",
      "reg_coeff: 10.0, acc: 0.815\n",
      "reg_coeff: 1.0, acc: 0.815\n",
      "reg_coeff: 0.1, acc: 0.819\n",
      "reg_coeff: 0.05, acc: 0.815\n",
      "reg_coeff: 0.02, acc: 0.815\n",
      "reg_coeff: 0.01, acc: 0.815\n",
      "best_acc 0.8192307692307692 best_reg 10\n",
      "best_f1 and f1 reg: 0.8446622055075894 10\n",
      "best_precision and precision reg: 0.816056841765046 10\n",
      "best_recall and recall reg: 1.0 1e-05\n"
     ]
    }
   ],
   "source": [
    "# 10 fold cross-validation\n",
    "folds = 10\n",
    "\n",
    "# total number of training samples\n",
    "num_train_val = X_train_val.shape[0]\n",
    "\n",
    "#shuffleing indices of samples to remove potential ordering bias\n",
    "sample_idx = np.arange(num_train_val)\n",
    "shuffle(sample_idx)\n",
    "\n",
    "print(sample_idx.shape)\n",
    "\n",
    "# splitting indices into 10 folds\n",
    "folds_idx = sample_idx.reshape(folds, -1)\n",
    "print('index of folds\\n', folds_idx)\n",
    "\n",
    "# set of hyperparameters to be tested\n",
    "regTerms = [.00001, .0001, .001, .01, .1, 1, 10, 20, 50, 100]\n",
    "\n",
    "best_acc = 0.0\n",
    "best_reg = 0.0\n",
    "best_f1 = 0.0\n",
    "best_precision = 0.0\n",
    "best_recall = 0.0\n",
    "\n",
    "for reg in regTerms:\n",
    "    \n",
    "    # 10-fold cross-validation\n",
    "    sum_acc = 0.0\n",
    "    sum_f1 = 0.0\n",
    "    sum_precision = 0.0\n",
    "    sum_recall = 0.0\n",
    "    \n",
    "    for fold in range(folds):\n",
    "        \n",
    "        index_of_folds_temp = folds_idx.copy()\n",
    "        \n",
    "        valid_index = index_of_folds_temp[fold,:].reshape(-1) #get the index of the validation set\n",
    "        train_index = np.delete(index_of_folds_temp, fold, 0).reshape(-1) #get the index of the training set\n",
    "      \n",
    "        # training set\n",
    "        X_train = X_train_val[train_index]\n",
    "        y_train = y_train_val[train_index]\n",
    "        \n",
    "        # validation set\n",
    "        X_valid = X_train_val[valid_index]\n",
    "        y_valid = y_train_val[valid_index]\n",
    "                \n",
    "        # build the model with different hyperparameters\n",
    "        clf = LogisticRegression(penalty='l2', C=reg, solver='lbfgs')\n",
    "        \n",
    "        #train the model with the training set\n",
    "        clf.fit(X_train, y_train)\n",
    "        \n",
    "        y_valid_pred = clf.predict(X_valid)\n",
    "        acc = accuracy_score(y_valid, y_valid_pred)\n",
    "        f1 = f1_score(y_valid, y_valid_pred)\n",
    "        precision = precision_score(y_valid, y_valid_pred)\n",
    "        recall = recall_score(y_valid, y_valid_pred)\n",
    "        \n",
    "        sum_acc += acc\n",
    "        sum_f1 += f1\n",
    "        sum_precision += precision \n",
    "        sum_recall += recall\n",
    "    \n",
    "    cur_acc = sum_acc / folds\n",
    "    cur_f1 = sum_f1 / folds\n",
    "    cur_precision = sum_precision / folds\n",
    "    cur_recall = sum_recall / folds\n",
    "    \n",
    "    print(\"reg_coeff: {}, acc: {:.3f}\".format(1.0/reg, cur_acc))\n",
    "    \n",
    "    # store the best hyperparameter\n",
    "    if cur_acc > best_acc:\n",
    "        best_acc = cur_acc\n",
    "        best_reg = reg\n",
    "        \n",
    "    # storing best of each metric to see if they're associated with different regularization terms \n",
    "    if cur_f1 > best_f1:\n",
    "        best_f1 = cur_f1\n",
    "        best_f1_reg = reg\n",
    "    if cur_precision > best_precision:\n",
    "        best_precision = cur_precision\n",
    "        best_precision_reg = reg\n",
    "    if cur_recall > best_recall:\n",
    "        best_recall = cur_recall\n",
    "        best_recall_reg = reg\n",
    "\n",
    "        \n",
    "print('best_acc', best_acc, 'best_reg', best_reg)\n",
    "print(\"best_f1 and f1 reg:\", best_f1, best_f1_reg)\n",
    "print(\"best_precision and precision reg:\", best_precision, best_precision_reg)\n",
    "print(\"best_recall and recall reg:\", best_recall, best_recall_reg)"
   ]
  },
  {
   "attachments": {},
   "cell_type": "markdown",
   "metadata": {},
   "source": [
    "## Retraining with best regulization coefficient\n",
    "\n",
    "The best regularization coefficient is not clear, after running the cross validation 10+ times I see variable outcomes, either '.1', '1', or '10' are presented as the best regularization coefficient, with none of them dominating. Sometimes there is a preferred regularization coefficient for the different evaluation metetrics, but most often they all agree on the same reg. Excluding recall, which always has a best recall of 1.0 for the reg term '1e-5'."
   ]
  },
  {
   "cell_type": "code",
   "execution_count": 11,
   "metadata": {},
   "outputs": [
    {
     "name": "stdout",
     "output_type": "stream",
     "text": [
      "accuracy: 0.907, recall: 1.000, precision: 0.826, f1: 0.905,\n"
     ]
    }
   ],
   "source": [
    "# training model of full training data with best regularization term \n",
    "clf = LogisticRegression(penalty='l2', C=best_reg, solver='lbfgs')    \n",
    "clf.fit(X_train_val, y_train_val)\n",
    "\n",
    "y_prediction = clf.predict(X_test)\n",
    "acc = accuracy_score(y_test, y_prediction)\n",
    "f1 = f1_score(y_test, y_prediction)\n",
    "recall = recall_score(y_test, y_prediction)\n",
    "precision = precision_score(y_test, y_prediction)\n",
    "\n",
    "print(\"accuracy: {:.3f}, recall: {:.3f}, precision: {:.3f}, f1: {:.3f},\".format(acc, recall, precision, f1))"
   ]
  },
  {
   "attachments": {},
   "cell_type": "markdown",
   "metadata": {},
   "source": [
    "## Visualize the model parameter vector\n"
   ]
  },
  {
   "cell_type": "code",
   "execution_count": 12,
   "metadata": {},
   "outputs": [
    {
     "name": "stdout",
     "output_type": "stream",
     "text": [
      "[-0.00282911 -0.86855305  0.90496892 -0.33131112 -0.26797972 -0.05962608\n",
      "  0.28811924  0.55217471 -0.35821439 -0.53428963  0.46237511 -0.71252503\n",
      " -0.55457973]\n",
      "['age' 'sex' 'cp' 'trestbps' 'chol' 'fbs' 'restecg' 'thalach' 'exang'\n",
      " 'oldpeak' 'slope' 'ca' 'thal' 'target']\n"
     ]
    },
    {
     "data": {
      "image/png": "[encoded data removed]",
      "text/plain": [
       "<Figure size 640x480 with 1 Axes>"
      ]
     },
     "metadata": {},
     "output_type": "display_data"
    }
   ],
   "source": [
    "# grab the coefficient vector (parameters)\n",
    "weights = clf.coef_[0]\n",
    "print(weights)\n",
    "\n",
    "print(heartData.columns.values)\n",
    "col_names = heartData.columns.values[:13, ] # subsetting out the target variable as no weight exists for it \n",
    "\n",
    "#generating bar plot \n",
    "plt.bar(range(len(weights)), weights)\n",
    "plt.xlabel('Feature index')\n",
    "plt.ylabel('Weight')\n",
    "plt.xticks(range(len(weights)), col_names, rotation=90) #labeling x-axis with corresponding features\n",
    "plt.show()"
   ]
  },
  {
   "attachments": {},
   "cell_type": "markdown",
   "metadata": {},
   "source": [
    "## Discussion \n",
    "\n",
    "The features which correlate to high absolute values in their weights such as sex, and cp, are likely showing larger weights because they have a strong correlation with the target variable. In other words, they offer more insight about the target variable and thus have their signals amplified within the model. This means they are being weighted more heavily, and are thus more powerful in producing good predictions according to the model. "
   ]
  }
 ],
 "metadata": {
  "kernelspec": {
   "display_name": "Python 3",
   "language": "python",
   "name": "python3"
  },
  "language_info": {
   "codemirror_mode": {
    "name": "ipython",
    "version": 3
   },
   "file_extension": ".py",
   "mimetype": "text/x-python",
   "name": "python",
   "nbconvert_exporter": "python",
   "pygments_lexer": "ipython3",
   "version": "3.10.4"
  },
  "orig_nbformat": 4
 },
 "nbformat": 4,
 "nbformat_minor": 2
}
