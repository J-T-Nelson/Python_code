{
 "cells": [
  {
   "cell_type": "code",
   "execution_count": null,
   "metadata": {},
   "outputs": [],
   "source": [
    "#List practice\n",
    "l1 = ['cat', 'dog', 'dang']\n",
    "l2 = ['cats', 'dogs', 'dang sweater']\n",
    "# l3 = l1.extend(l2) # CANNOT assign this way... \n",
    "l3 = l1\n",
    "l3.extend(l2)\n",
    "print(l3)\n",
    "\n",
    "for item in l1:\n",
    "    print(item)\n",
    "for item in l2:\n",
    "    print(item)\n",
    "for item in l3:\n",
    "   print(item)"
   ]
  },
  {
   "cell_type": "code",
   "execution_count": null,
   "metadata": {},
   "outputs": [],
   "source": [
    "for i in range(len(l3)):\n",
    "    print(\"Item\", i, \":\", l3[i])\n",
    "\n",
    "l4 = l3\n",
    "l4.append(\"ham\")\n",
    "print(l3, l4) # we can see that appending something by variable name l4 did not successfully create a new array... \n",
    "\n",
    "l5 = l3.copy()\n",
    "l5.append(\"happy\")\n",
    "print(l3, l4, l5) # copy does work for allocating new memory to a variable \n",
    "\n",
    "for o in l3:\n",
    "    o = \"new \" + o \n",
    "    l5.append(o)\n",
    "print(l5)"
   ]
  },
  {
   "cell_type": "code",
   "execution_count": null,
   "metadata": {},
   "outputs": [],
   "source": [
    "#list indexing / slicing\n",
    "\n",
    "print(l5[::2])\n",
    "print(l5[-1::-1])\n",
    "\n",
    "l5.insert(2, \"ample patience\")\n",
    "print(l5)\n",
    "l5.remove(\"new ham\")\n",
    "print(l5)"
   ]
  },
  {
   "cell_type": "code",
   "execution_count": null,
   "metadata": {},
   "outputs": [],
   "source": [
    "# Tuples: \n",
    "\n",
    "t1 = tuple(l5)\n",
    "print(t1[2:10])\n",
    "print(t1[2:-7])\n",
    "\n",
    "someTerms = t1[:3]\n",
    "(term1, term2, term3) = someTerms\n",
    "print(term1,term2,term3)\n",
    "\n",
    "s=''\n",
    "for o in t1:\n",
    "    s+=o\n",
    "print(s.replace(' ', ''))"
   ]
  },
  {
   "cell_type": "code",
   "execution_count": null,
   "metadata": {},
   "outputs": [],
   "source": [
    "# Dictionaries \n",
    "\n",
    "dict1 = {}\n",
    "wordLen = [len(word) for word in l5]\n",
    "print(wordLen)\n",
    "\n",
    "for count, word in enumerate(l5):\n",
    "    dict1[word] = wordLen[count]\n",
    "print(dict1)\n",
    "print(dict1.values())\n",
    "print(dict1.keys())\n",
    "print(dict1.items())\n",
    "\n",
    "dict1.update({\"new dogs\" : \"twenty seven\"})\n",
    "print(dict1)\n",
    "dict1.update({\"new Hand Type sound device\" : \"ffffffffffffffffffffffffffffffffffffffffffffff\"})\n",
    "print(dict1)\n",
    "\n",
    "dict1.pop(\"ham\")\n",
    "print(dict1)\n",
    "\n",
    "for k in dict1.keys():\n",
    "    print(k)"
   ]
  },
  {
   "cell_type": "code",
   "execution_count": 7,
   "metadata": {},
   "outputs": [
    {
     "name": "stdout",
     "output_type": "stream",
     "text": [
      "<class 'numpy.ndarray'>\n",
      "(406, 7)\n",
      "[[18.0 8 307.0 ... 3504 12.0 70]\n",
      " [15.0 8 350.0 ... 3693 11.5 70]\n",
      " [18.0 8 318.0 ... 3436 11.0 70]\n",
      " ...\n",
      " [32.0 4 135.0 ... 2295 11.6 82]\n",
      " [28.0 4 120.0 ... 2625 18.6 82]\n",
      " [31.0 4 119.0 ... 2720 19.4 82]]\n"
     ]
    }
   ],
   "source": [
    "# Part 2\n",
    "import pandas as pd\n",
    "import numpy as np\n",
    "\n",
    "carsDF = pd.read_csv(\"./Data/cars.csv\")\n",
    "X = carsDF.values[:, 1:-1]\n",
    "print(type(X))\n",
    "print(X.shape)\n",
    "print(X)\n",
    "#documentation suggests using .to_numpy() instead of .values()\n",
    "\n",
    "X2 = carsDF.to_numpy()\n"
   ]
  }
 ],
 "metadata": {
  "kernelspec": {
   "display_name": "Python 3",
   "language": "python",
   "name": "python3"
  },
  "language_info": {
   "codemirror_mode": {
    "name": "ipython",
    "version": 3
   },
   "file_extension": ".py",
   "mimetype": "text/x-python",
   "name": "python",
   "nbconvert_exporter": "python",
   "pygments_lexer": "ipython3",
   "version": "3.10.4"
  },
  "orig_nbformat": 4,
  "vscode": {
   "interpreter": {
    "hash": "6fa2c8eb31e883fb5a22fbf67621de023b5dc228d46f0c7fcdad9efff2c48063"
   }
  }
 },
 "nbformat": 4,
 "nbformat_minor": 2
}
