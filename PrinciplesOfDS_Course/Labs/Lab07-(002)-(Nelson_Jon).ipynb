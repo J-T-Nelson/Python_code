{
 "cells": [
  {
   "attachments": {},
   "cell_type": "markdown",
   "metadata": {},
   "source": [
    "# Lab 7: Dimensionality Reduction and Spectral Clustering\n"
   ]
  },
  {
   "attachments": {},
   "cell_type": "markdown",
   "metadata": {},
   "source": [
    "## Preprocess Data: check for missing values"
   ]
  },
  {
   "cell_type": "code",
   "execution_count": 2,
   "metadata": {},
   "outputs": [
    {
     "name": "stdout",
     "output_type": "stream",
     "text": [
      "<class 'pandas.core.frame.DataFrame'>\n",
      "RangeIndex: 303 entries, 0 to 302\n",
      "Data columns (total 14 columns):\n",
      " #   Column    Non-Null Count  Dtype  \n",
      "---  ------    --------------  -----  \n",
      " 0   age       303 non-null    int64  \n",
      " 1   sex       303 non-null    int64  \n",
      " 2   cp        303 non-null    int64  \n",
      " 3   trestbps  303 non-null    int64  \n",
      " 4   chol      303 non-null    int64  \n",
      " 5   fbs       303 non-null    int64  \n",
      " 6   restecg   303 non-null    int64  \n",
      " 7   thalach   303 non-null    int64  \n",
      " 8   exang     303 non-null    int64  \n",
      " 9   oldpeak   303 non-null    float64\n",
      " 10  slope     303 non-null    int64  \n",
      " 11  ca        303 non-null    int64  \n",
      " 12  thal      303 non-null    int64  \n",
      " 13  target    303 non-null    int64  \n",
      "dtypes: float64(1), int64(13)\n",
      "memory usage: 33.3 KB\n",
      "None\n"
     ]
    }
   ],
   "source": [
    "import numpy as np\n",
    "import pandas as pd \n",
    "from sklearn.cluster import KMeans\n",
    "from sklearn.cluster import AgglomerativeClustering\n",
    "from sklearn.cluster import SpectralClustering\n",
    "from sklearn.preprocessing import StandardScaler\n",
    "from sklearn.metrics.cluster import normalized_mutual_info_score\n",
    "\n",
    "heartData = pd.read_csv(\"D:\\Programming\\Python_code\\PrinciplesOfDS_Course\\Labs\\Data\\heart.csv\")\n",
    "print(heartData.info()) # all data types int or float, no non-numeric features. No categorical features to convert \n",
    "\n",
    "# Check for missing values \n",
    "heartData.isna().sum()/heartData.shape[0] # all values 0. No missing values. \n",
    "\n",
    "X, y = heartData.drop(columns='target'), heartData.target\n",
    "\n",
    "normalizer = StandardScaler()\n",
    "X_norm = normalizer.fit_transform(X)\n",
    "# print(\"X\", X.iloc[:10,])\n",
    "# print('X_norm',X_norm[:10,])"
   ]
  },
  {
   "cell_type": "code",
   "execution_count": 3,
   "metadata": {},
   "outputs": [
    {
     "name": "stdout",
     "output_type": "stream",
     "text": [
      "The normalized mutual information score of the K-means method is 0.3234\n"
     ]
    },
    {
     "name": "stderr",
     "output_type": "stream",
     "text": [
      "c:\\Users\\Tanner_N\\AppData\\Local\\Python\\lib\\site-packages\\sklearn\\cluster\\_kmeans.py:870: FutureWarning: The default value of `n_init` will change from 10 to 'auto' in 1.4. Set the value of `n_init` explicitly to suppress the warning\n",
      "  warnings.warn(\n"
     ]
    }
   ],
   "source": [
    "# no point in doing more than 2 clusters as we know there are only 2 possible categories already\n",
    "cluster = KMeans(n_clusters=2, random_state=1).fit(X_norm) \n",
    "\n",
    "nmi = normalized_mutual_info_score(cluster.labels_, y, average_method='arithmetic')\n",
    "print('The normalized mutual information score of the K-means method is {:.4f}'.format(nmi))"
   ]
  },
  {
   "attachments": {},
   "cell_type": "markdown",
   "metadata": {},
   "source": [
    "## Try different hyper-parameters\n"
   ]
  },
  {
   "cell_type": "code",
   "execution_count": 4,
   "metadata": {},
   "outputs": [
    {
     "name": "stdout",
     "output_type": "stream",
     "text": [
      "0.3261551563327772\n",
      "0.32341194603576945\n",
      "0.3261551563327772\n",
      "0.32967483885081544\n",
      "0.32967483885081544\n",
      "0.32341194603576945\n",
      "0.3234119460357694\n",
      "0.3234119460357694\n",
      "0.2749021353467294\n",
      "0.27136707411437866\n",
      "0.2749021353467294\n",
      "0.2749021353467294\n",
      "0.2749021353467294\n",
      "0.2749021353467294\n",
      "0.2749021353467294\n",
      "0.2749021353467294\n",
      "0.20624278848512545\n",
      "0.1716795654858564\n",
      "0.20624278848512545\n",
      "0.2030474974165272\n",
      "0.20624278848512545\n",
      "0.20624278848512545\n",
      "0.20624278848512545\n",
      "0.20486584603827884\n",
      "0.1750241625002989\n",
      "0.18811028092220297\n",
      "0.19668555069459906\n",
      "0.1721961902904418\n",
      "0.2043842345678437\n",
      "0.20250808424590222\n",
      "0.21478650120732137\n",
      "0.20645309142468846\n",
      "Best of each category:\n",
      "Best nmi 0.32967483885081544\n",
      "Best k cluster 2\n",
      "Best n_init 20\n",
      "Best init random\n"
     ]
    }
   ],
   "source": [
    "test_k = [2,3,4,5]\n",
    "test_n_init = [10, 20, 30, 50]\n",
    "test_init = ['k-means++', 'random']\n",
    "\n",
    "best_nmi = 0\n",
    "best_k = None\n",
    "best_n_init = None\n",
    "best_init = None\n",
    "\n",
    "for k in test_k:\n",
    "    for n in test_n_init:\n",
    "        for init in test_init:\n",
    "            temp_cluster = KMeans(n_clusters=k, init=init, n_init=n).fit(X_norm)\n",
    "            temp_nmi = normalized_mutual_info_score(temp_cluster.labels_, y, average_method='arithmetic')\n",
    "            print(temp_nmi)\n",
    "            if(temp_nmi > best_nmi):\n",
    "                best_nmi = temp_nmi\n",
    "                best_k = k\n",
    "                best_n_init = n\n",
    "                best_init = init\n",
    "\n",
    "print(\"Best of each category:\\nBest nmi {}\\nBest k cluster {}\\nBest n_init {}\\nBest init {}\".format(best_nmi, best_k, best_n_init, best_init))\n",
    "\n",
    "bestKmeans_nmi = best_nmi"
   ]
  },
  {
   "attachments": {},
   "cell_type": "markdown",
   "metadata": {},
   "source": [
    "### Thoughts on different parameters: \n",
    "As stated above, there really isnt a point in trying to use more than 2 clusters, as we only have 2 possible categories of data. We know this going in, so we know the optimal cluster amount going in. Results substantially change for the worse with greater cluster amounts, further, there is no real imrovement on the nmi score in testing other hyperparameters. "
   ]
  },
  {
   "attachments": {},
   "cell_type": "markdown",
   "metadata": {},
   "source": [
    "## Agglomerative Clustering:\n"
   ]
  },
  {
   "cell_type": "code",
   "execution_count": 5,
   "metadata": {},
   "outputs": [
    {
     "name": "stdout",
     "output_type": "stream",
     "text": [
      "The normalized mutual information score of the Agglomerative clustering method is 0.0111\n"
     ]
    }
   ],
   "source": [
    "agg_cluster = AgglomerativeClustering(n_clusters=2).fit(X)\n",
    "\n",
    "nmi = normalized_mutual_info_score(agg_cluster.labels_, y, average_method='arithmetic')\n",
    "print('The normalized mutual information score of the Agglomerative clustering method is {:.4f}'.format(nmi))"
   ]
  },
  {
   "attachments": {},
   "cell_type": "markdown",
   "metadata": {},
   "source": [
    "### Test different hyperparameters: \n"
   ]
  },
  {
   "cell_type": "code",
   "execution_count": 6,
   "metadata": {},
   "outputs": [
    {
     "name": "stdout",
     "output_type": "stream",
     "text": [
      "0.011063515436362354\n",
      "0.00027129245492457866\n",
      "0.00027129245492457866\n",
      "0.005652750492624307\n",
      "0.009001669557496405\n",
      "0.03393886998938809\n",
      "0.005272370527725735\n",
      "0.012547879744986242\n",
      "0.009229764064007892\n",
      "0.036507355506030355\n",
      "0.02674253534651711\n",
      "0.01749723859550799\n",
      "0.01326847734067055\n",
      "0.04322159014456702\n",
      "0.030500596599103175\n",
      "0.016133747429041743\n",
      "0.02871304161117195\n",
      "0.06274143379776896\n",
      "0.03129531303084799\n",
      "0.021841921862053443\n",
      "0.03690019438473182\n",
      "0.06378177909188953\n",
      "0.0414857169831583\n",
      "0.025893914500633223\n",
      "0.036909483511863635\n",
      "0.05676875387176104\n",
      "0.051571308995400744\n",
      "0.026296269762886657\n",
      "0.03828095912038763\n",
      "0.0605508197088417\n",
      "0.050286051160642456\n",
      "0.031208774165090748\n",
      "0.03866165426109681\n",
      "0.060131912673690044\n",
      "0.051291767771655096\n",
      "0.03592698315155799\n",
      "Best nmi 0.0638\n",
      "Best setting complete\n",
      "Best n_clusters 7\n"
     ]
    }
   ],
   "source": [
    "n_clusters = [2,3,4,5,6,7,8,9,10]\n",
    "linkage_setting = ['ward','complete','average','single']\n",
    "\n",
    "best_agg_nmi = 0\n",
    "best_setting = None\n",
    "best_n_clusters = 0\n",
    "for n in n_clusters:\n",
    "    for s in linkage_setting:\n",
    "        agg_cluster_temp = AgglomerativeClustering(n_clusters=n, linkage=s).fit(X)\n",
    "        temp_nmi = normalized_mutual_info_score(agg_cluster_temp.labels_, y, average_method='arithmetic')\n",
    "        print(temp_nmi)\n",
    "        if(temp_nmi > best_agg_nmi):\n",
    "            best_agg_nmi = temp_nmi\n",
    "            best_setting = s\n",
    "            best_n_clusters = n\n",
    "\n",
    "print(\"Best nmi {:.4f}\\nBest setting {}\\nBest n_clusters {}\".format(best_agg_nmi,best_setting, best_n_clusters))"
   ]
  },
  {
   "attachments": {},
   "cell_type": "markdown",
   "metadata": {},
   "source": [
    "## Spectral Clustering: \n",
    "The above code remains mostly unchanged from lab 6, as directed within lab 7 a comparison of the clustering methods will be drawn hereafter. \n"
   ]
  },
  {
   "cell_type": "code",
   "execution_count": 7,
   "metadata": {},
   "outputs": [
    {
     "name": "stderr",
     "output_type": "stream",
     "text": [
      "c:\\Users\\Tanner_N\\AppData\\Local\\Python\\lib\\site-packages\\sklearn\\manifold\\_spectral_embedding.py:274: UserWarning: Graph is not fully connected, spectral embedding may not work as expected.\n",
      "  warnings.warn(\n"
     ]
    },
    {
     "name": "stdout",
     "output_type": "stream",
     "text": [
      "K-nearest neighbors NMI: 0.0209 Fully connected Graph NMI: 0.0003\n",
      "Best of each clustering method:\n",
      "Best of Kmeans: 0.3297\n",
      "Best of Agglormerative: 0.0638\n",
      "Best of Spectral: 0.0209\n"
     ]
    }
   ],
   "source": [
    "# partition the dataset with spectral clustering, here we use the 'nearest_neighbors' method to construct the similarity graph\n",
    "cluster_sp_nn = SpectralClustering(n_clusters=2, assign_labels=\"discretize\", affinity='nearest_neighbors', random_state=0).fit(X)\n",
    "\n",
    "# partition the dataset with spectral clustering, here we use the 'fully connected graph' method to construct the similarity graph\n",
    "cluster_sp_rbf = SpectralClustering(n_clusters=2, assign_labels=\"discretize\", affinity='rbf', random_state=0).fit(X)\n",
    "\n",
    "nmi_sp_nn = normalized_mutual_info_score(cluster_sp_nn.labels_, y, average_method='arithmetic')\n",
    "nmi_sp_rbf = normalized_mutual_info_score(cluster_sp_rbf.labels_, y, average_method='arithmetic')\n",
    "\n",
    "print(\"K-nearest neighbors NMI:\", round(nmi_sp_nn,4), \"Fully connected Graph NMI:\", round(nmi_sp_rbf,4))\n",
    "\n",
    "print(\"Best of each clustering method:\\nBest of Kmeans: {:.4f}\\nBest of Agglormerative: {:.4f}\\nBest of Spectral: {:.4f}\".format(bestKmeans_nmi, best_agg_nmi, nmi_sp_nn))"
   ]
  },
  {
   "attachments": {},
   "cell_type": "markdown",
   "metadata": {},
   "source": [
    "## Discussion of Clustering methods: \n",
    "None of the clustering methods perform particularly well with the normalized data. With no score passing .35 it is clear that classification by these clustering algorithms is not particularly effective for this data set. I imagine there may be a lot of noise within the data set due to certain variables, perhaps attempting to cluster with removal of different features could enable better performance. There may be a subset of features which are more closely correlated with the target variable which represents the clusters which we wish to detect. If creation of a pretrained model was the goal for detecting the target when it is not included in data, (like detecting heart disease based on other metrics), I believe it would be resonable to spend time testing which features tend to correlate most closely or simply running many clustering models against all possible features sets to see where performance peaks. "
   ]
  },
  {
   "cell_type": "code",
   "execution_count": 8,
   "metadata": {},
   "outputs": [
    {
     "name": "stdout",
     "output_type": "stream",
     "text": [
      "number of original features: 13\n",
      "\n",
      "   age  sex  cp  trestbps  chol  fbs  restecg  thalach  exang  oldpeak  slope  \\\n",
      "0   63    1   3       145   233    1        0      150      0      2.3      0   \n",
      "1   37    1   2       130   250    0        1      187      0      3.5      0   \n",
      "2   41    0   1       130   204    0        0      172      0      1.4      2   \n",
      "3   56    1   1       120   236    0        1      178      0      0.8      2   \n",
      "4   57    0   0       120   354    0        1      163      1      0.6      2   \n",
      "\n",
      "   ca  thal  \n",
      "0   0     1  \n",
      "1   0     2  \n",
      "2   0     2  \n",
      "3   0     2  \n",
      "4   0     2  \n",
      "         age       sex        cp   trestbps        chol       fbs   restecg  \\\n",
      "0   8.633663  0.316832  2.033003  13.376238  -13.264026  0.851485 -0.528053   \n",
      "1 -17.366337  0.316832  1.033003  -1.623762    3.735974 -0.148515  0.471947   \n",
      "2 -13.366337 -0.683168  0.033003  -1.623762  -42.264026 -0.148515 -0.528053   \n",
      "3   1.633663  0.316832  0.033003 -11.623762  -10.264026 -0.148515  0.471947   \n",
      "4   2.633663 -0.683168 -0.966997 -11.623762  107.735974 -0.148515  0.471947   \n",
      "\n",
      "     thalach     exang   oldpeak    slope        ca      thal  \n",
      "0   0.353135 -0.326733  1.260396 -1.39934 -0.729373 -1.313531  \n",
      "1  37.353135 -0.326733  2.460396 -1.39934 -0.729373 -0.313531  \n",
      "2  22.353135 -0.326733  0.360396  0.60066 -0.729373 -0.313531  \n",
      "3  28.353135 -0.326733 -0.239604  0.60066 -0.729373 -0.313531  \n",
      "4  13.353135  0.673267 -0.439604  0.60066 -0.729373 -0.313531  \n",
      "\n",
      "number of new features: 2\n",
      "Explained variance ratios: [0.7475642  0.15037022]\n"
     ]
    }
   ],
   "source": [
    "# PCA on heart disease data set\n",
    "from sklearn.decomposition import PCA\n",
    "import matplotlib.pyplot as plt\n",
    "\n",
    "# No need to check for missing values or categorical featuers, we have used this data alredy and know there are no such preprocessing steps necessary. \n",
    "X_pca, y_pca = heartData.drop(columns='target'), heartData.target\n",
    "\n",
    "print('number of original features: {}\\n'.format(X_pca.shape[1]))\n",
    "\n",
    "# data before centering: \n",
    "print(X_pca.iloc[:5,:])\n",
    "# Center data\n",
    "X_pca = X_pca - np.mean(X_pca, axis = 0)\n",
    "# Data after centering: \n",
    "print(X_pca.iloc[:5,:])\n",
    "\n",
    "# PCA \n",
    "pca = PCA(n_components=2)\n",
    "X_r = pca.fit(X_pca).transform(X_pca)\n",
    "\n",
    "print('\\nnumber of new features: {}'.format(X_r.shape[1]))\n",
    "\n",
    "explained_variance_ratios = pca.explained_variance_ratio_\n",
    "print(\"Explained variance ratios:\", explained_variance_ratios) # [0.7475642  0.15037022] "
   ]
  },
  {
   "cell_type": "code",
   "execution_count": 9,
   "metadata": {},
   "outputs": [
    {
     "data": {
      "text/plain": [
       "Text(0.5, 1.0, 'PCA scatter plot')"
      ]
     },
     "execution_count": 9,
     "metadata": {},
     "output_type": "execute_result"
    },
    {
     "data": {
      "image/png": "[encoded data removed]",
      "text/plain": [
       "<Figure size 640x480 with 1 Axes>"
      ]
     },
     "metadata": {},
     "output_type": "display_data"
    }
   ],
   "source": [
    "# visualization of principle components: \n",
    "plt.scatter(X_r[:,0], X_r[:,1], c=y_pca, cmap='bwr')\n",
    "plt.xlabel(\"Principle Component 1\")\n",
    "plt.ylabel(\"Principle Component 1\")\n",
    "plt.title(\"PCA scatter plot\")"
   ]
  },
  {
   "cell_type": "code",
   "execution_count": 10,
   "metadata": {},
   "outputs": [
    {
     "name": "stdout",
     "output_type": "stream",
     "text": [
      "Explained variance ratios for 2 componenet PCA: [0.7475642  0.15037022]\n",
      "Explained variance ratios for 5 componenet PCA: [7.47564199e-01 1.50370221e-01 8.45968470e-02 1.62159604e-02\n",
      " 3.84085658e-04]\n",
      "Explained variance ratios for 10 componenet PCA: [7.47564199e-01 1.50370221e-01 8.45968470e-02 1.62159604e-02\n",
      " 3.84085658e-04 2.81234229e-04 2.28993383e-04 9.98328415e-05\n",
      " 7.72143117e-05 5.87402295e-05]\n"
     ]
    }
   ],
   "source": [
    "from sklearn.linear_model import LogisticRegression\n",
    "from sklearn.metrics import accuracy_score\n",
    "from sklearn.metrics import f1_score\n",
    "from sklearn.metrics import recall_score\n",
    "from sklearn.metrics import precision_score\n",
    "\n",
    "pca2 = PCA(n_components=2)\n",
    "X_r_2 = pca2.fit(X_pca).transform(X_pca)\n",
    "print(\"Explained variance ratios for 2 componenet PCA:\", pca2.explained_variance_ratio_) \n",
    "\n",
    "pca5 = PCA(n_components=5)\n",
    "X_r_5 = pca5.fit(X_pca).transform(X_pca)\n",
    "print(\"Explained variance ratios for 5 componenet PCA:\", pca5.explained_variance_ratio_) \n",
    "\n",
    "pca10 = PCA(n_components=10)\n",
    "X_r_10 = pca10.fit(X_pca).transform(X_pca)\n",
    "print(\"Explained variance ratios for 10 componenet PCA:\", pca10.explained_variance_ratio_) \n"
   ]
  },
  {
   "cell_type": "code",
   "execution_count": 11,
   "metadata": {},
   "outputs": [
    {
     "name": "stdout",
     "output_type": "stream",
     "text": [
      "(303, 2)\n",
      "(303, 5)\n",
      "(303, 10)\n",
      "(260, 2) (43, 2) (260,)\n",
      "[[ 17.24035814  44.69270471]\n",
      " [  6.45117302 -12.35371762]\n",
      " [171.16770753  -7.71869434]] \n",
      "\n",
      " [[-51.00549993  -9.98785187 -27.81764979  -1.0793056   -0.58521708]\n",
      " [-26.33994024   6.02689407  -5.43480777   4.44526234   0.96934893]\n",
      " [ 24.93466935 -30.61213888   9.73795255   8.18713657  -0.34489908]] \n",
      "\n",
      "\n",
      "[[ 0.28934185  1.98017967]\n",
      " [ 0.08674464 -0.50907111]\n",
      " [ 3.17975942 -0.30681942]] \n",
      "\n",
      " [[-0.97496045 -0.38797796 -1.57155262 -0.12789275 -0.52388394]\n",
      " [-0.50536823  0.28819004 -0.28794527  0.58730346  0.85452329]\n",
      " [ 0.4708171  -1.2587681   0.58217956  1.07171676 -0.31079805]]\n"
     ]
    }
   ],
   "source": [
    "from sklearn.model_selection import train_test_split\n",
    "from sklearn.linear_model import LogisticRegression\n",
    "from sklearn.metrics import accuracy_score\n",
    "from sklearn.metrics import f1_score\n",
    "from sklearn.metrics import recall_score\n",
    "from sklearn.metrics import precision_score\n",
    "from random import shuffle\n",
    "\n",
    "print(X_r_2.shape)\n",
    "print(X_r_5.shape)\n",
    "print(X_r_10.shape)\n",
    "\n",
    "#splitting all data\n",
    "X_train_val_2, X_test_2, y_train_val_2, y_test_2 = train_test_split(X_r_2, y_pca, test_size=0.14, random_state=17)\n",
    "X_train_val_5, X_test_5, y_train_val_5, y_test_5 = train_test_split(X_r_5, y_pca, test_size=0.14, random_state=25)\n",
    "X_train_val_10, X_test_10, y_train_val_10, y_test_10 = train_test_split(X_r_10, y_pca, test_size=0.14, random_state=3)\n",
    "\n",
    "print(X_train_val_2.shape, X_test_2.shape, y_train_val_2.shape)\n",
    "print(X_train_val_2[:3], \"\\n\\n\", X_train_val_5[:3], \"\\n\\n\")\n",
    "\n",
    "#scaling all data\n",
    "normalizer = StandardScaler()\n",
    "X_train_val_2 = normalizer.fit_transform(X_train_val_2)\n",
    "X_test_2 = normalizer.transform(X_test_2)\n",
    "\n",
    "normalizer5 = StandardScaler()\n",
    "X_train_val_5 = normalizer5.fit_transform(X_train_val_5)\n",
    "X_test_5 = normalizer5.transform(X_test_5)\n",
    "\n",
    "normalizer10 = StandardScaler()\n",
    "X_train_val_10 = normalizer10.fit_transform(X_train_val_10)\n",
    "X_test_10 = normalizer10.transform(X_test_10)\n",
    "\n",
    "print(X_train_val_2[:3], \"\\n\\n\", X_train_val_5[:3])\n",
    "\n",
    "#conversion to np.ndarray necessary for grabbing indices of folds\n",
    "y_train_val_2 = y_train_val_2.to_numpy()\n",
    "y_train_val_5 = y_train_val_5.to_numpy()\n",
    "y_train_val_10 = y_train_val_10.to_numpy()"
   ]
  },
  {
   "attachments": {},
   "cell_type": "markdown",
   "metadata": {},
   "source": [
    "### Finding Best Hyperparameters for Each PCA Decomp "
   ]
  },
  {
   "cell_type": "code",
   "execution_count": 31,
   "metadata": {},
   "outputs": [
    {
     "name": "stdout",
     "output_type": "stream",
     "text": [
      "(260,)\n",
      "index of folds\n",
      " [[117   7   2 154 204 155 203  52  49 120  41  31 231  10 225 175  86 223\n",
      "   81   5 103  35 210 238 177  74  17 108 109  60 122  83 168 187 206 244\n",
      "  234  54  95 102 216 129  14  13  66 113 112 256 134  69 257 197]\n",
      " [114 229 199 243 237 140 153  43 125  38 162 259 116   1  51 165  42 147\n",
      "  142 179  96 159 217 182 191 100 215 213  65 146 127 128 189   4 133  88\n",
      "   48 124  68  94 184  18 202 253 104  47 185  59  85 230 151  67]\n",
      " [ 39 131 220  76 233  19 219 250   3 246 107  24 105  26  20 254 211  25\n",
      "  207 119 171 186  62  57 143  71 232  27  21  58  22 106 255  78 227 130\n",
      "   46  36   9 118  23 192  64  29  28  70  11 157 214 101 164 252]\n",
      " [ 73  12  34  63 126 208 180 158 145 251 222 111 245 160 176  92  87 212\n",
      "   79 167 156 221   6 115 110  44  30  89 170 139 258 241  40 248  99 181\n",
      "    8 161 247 218 240 200  91 148  56 242 239  97  72 135  53 174]\n",
      " [ 32 235 198 236 183 144   0  75 209 132 141 190 194  16 121 136 224  50\n",
      "  138 163  93 205  61 150  33  45 173  82 152 123  15 172  55  77 201 166\n",
      "   84 193 228 137  98 169 249  90 196 188 195  80 149  37 178 226]]\n",
      "reg_coeff: 99999.99999999999, acc: 0.577\n",
      "reg_coeff: 10000.0, acc: 0.577\n",
      "reg_coeff: 1000.0, acc: 0.577\n",
      "reg_coeff: 100.0, acc: 0.631\n",
      "reg_coeff: 10.0, acc: 0.696\n",
      "reg_coeff: 1.0, acc: 0.715\n",
      "reg_coeff: 0.1, acc: 0.723\n",
      "reg_coeff: 0.05, acc: 0.723\n",
      "reg_coeff: 0.02, acc: 0.723\n",
      "reg_coeff: 0.01, acc: 0.723\n",
      "\n",
      "\n",
      "For PCA with _2 components\n",
      "best_acc 0.7230769230769232 best_reg 10\n",
      "best_f1 and f1 reg: 0.770090708684182 10\n",
      "best_precision and precision reg: 0.7347331029185868 10\n",
      "best_recall and recall reg: 1.0 1e-05\n"
     ]
    }
   ],
   "source": [
    "# 5 fold cross-validation\n",
    "folds = 5\n",
    "\n",
    "# total number of training samples\n",
    "num_train_val = X_train_val_2.shape[0]\n",
    "\n",
    "#shuffleing indices of samples to remove potential ordering bias\n",
    "sample_idx = np.arange(num_train_val)\n",
    "shuffle(sample_idx)\n",
    "\n",
    "print(sample_idx.shape)\n",
    "\n",
    "# splitting indices into 5 folds\n",
    "folds_idx = sample_idx.reshape(folds, -1)\n",
    "print('index of folds\\n', folds_idx)\n",
    "\n",
    "# set of hyperparameters to be tested\n",
    "regTerms = [.00001, .0001, .001, .01, .1, 1, 10, 20, 50, 100]\n",
    "\n",
    "best_acc_2 = 0.0\n",
    "best_reg_2 = 0.0\n",
    "best_f1_2 = 0.0\n",
    "best_precision_2 = 0.0\n",
    "best_recall_2 = 0.0\n",
    "\n",
    "for reg in regTerms:\n",
    "    \n",
    "    # 10-fold cross-validation\n",
    "    sum_acc = 0.0\n",
    "    sum_f1 = 0.0\n",
    "    sum_precision = 0.0\n",
    "    sum_recall = 0.0\n",
    "    \n",
    "    for fold in range(folds):\n",
    "        \n",
    "        index_of_folds_temp = folds_idx.copy()\n",
    "        \n",
    "        valid_index = index_of_folds_temp[fold,:].reshape(-1) #get the index of the validation set\n",
    "        train_index = np.delete(index_of_folds_temp, fold, 0).reshape(-1) #get the index of the training set\n",
    "      \n",
    "        # training set\n",
    "        X_train = X_train_val_2[train_index]\n",
    "        y_train = y_train_val_2[train_index]\n",
    "        \n",
    "        # validation set\n",
    "        X_valid = X_train_val_2[valid_index]\n",
    "        y_valid = y_train_val_2[valid_index]\n",
    "                \n",
    "        # build the model with different hyperparameters\n",
    "        clf = LogisticRegression(penalty='l2', C=reg, solver='lbfgs')\n",
    "        \n",
    "        #train the model with the training set\n",
    "        clf.fit(X_train, y_train)\n",
    "        \n",
    "        y_valid_pred = clf.predict(X_valid)\n",
    "        acc = accuracy_score(y_valid, y_valid_pred)\n",
    "        f1 = f1_score(y_valid, y_valid_pred)\n",
    "        precision = precision_score(y_valid, y_valid_pred)\n",
    "        recall = recall_score(y_valid, y_valid_pred)\n",
    "        \n",
    "        sum_acc += acc\n",
    "        sum_f1 += f1\n",
    "        sum_precision += precision \n",
    "        sum_recall += recall\n",
    "    \n",
    "    cur_acc = sum_acc / folds\n",
    "    cur_f1 = sum_f1 / folds\n",
    "    cur_precision = sum_precision / folds\n",
    "    cur_recall = sum_recall / folds\n",
    "    \n",
    "    print(\"reg_coeff: {}, acc: {:.3f}\".format(1.0/reg, cur_acc))\n",
    "    \n",
    "    # store the best hyperparameter\n",
    "    if cur_acc > best_acc_2:\n",
    "        best_acc_2 = cur_acc\n",
    "        best_reg = reg\n",
    "        \n",
    "    # storing best of each metric to see if they're associated with different regularization terms \n",
    "    if cur_f1 > best_f1_2:\n",
    "        best_f1_2 = cur_f1\n",
    "        best_f1_reg = reg\n",
    "    if cur_precision > best_precision_2:\n",
    "        best_precision_2 = cur_precision\n",
    "        best_precision_reg = reg\n",
    "    if cur_recall > best_recall_2:\n",
    "        best_recall_2 = cur_recall\n",
    "        best_recall_reg = reg\n",
    "\n",
    "print(\"\\n\\nFor PCA with _2 components\")        \n",
    "print('best_acc', best_acc_2, 'best_reg', best_reg)\n",
    "print(\"best_f1 and f1 reg:\", best_f1_2, best_f1_reg)\n",
    "print(\"best_precision and precision reg:\", best_precision_2, best_precision_reg)\n",
    "print(\"best_recall and recall reg:\", best_recall_2, best_recall_reg)"
   ]
  },
  {
   "cell_type": "code",
   "execution_count": 40,
   "metadata": {},
   "outputs": [
    {
     "name": "stdout",
     "output_type": "stream",
     "text": [
      "(260,)\n",
      "index of folds\n",
      " [[  1 173  91  30 149 206 223  54  67  93 182 231  61 183  31 138 111 150\n",
      "   83 143 258  29 189  14 136  12 156 208  23   2 212  98 230  46 137 122\n",
      "  146 186  36 114 193  89 101 245 200 131 141 166 157 213 107 113]\n",
      " [228 142 199  50 121 248  10 133  48  35 192 190 255 218  94 242 100  53\n",
      "    3  65 145 252  33 123 110 202 226 195 185 216  90 148 112 214  19 256\n",
      "   15 176 151  62 132 217  70  68 219 240 225 246   0  59 104  21]\n",
      " [ 18 233 155  11 257 163 127  71 235 188  55  47 108 227   4  92  22 194\n",
      "  198 215 239 158  77 162 168  26  49 249  79  24  82 210  66  81 207  42\n",
      "  130 222 164 109 224 221 238   6  84 117 209  73 201 181 220  40]\n",
      " [ 58  57  95 197  88 180 120 250 126   9  41 247  99  51  87  27  13 128\n",
      "   96 172 144 105 187 152 147 191  64 179 102 244 251 139 153 115 211   5\n",
      "  175 140 237  60  69 134 178  17  76 125 196  34  86 259 167 116]\n",
      " [ 80 165 243  28  72  38 160  43  44  75 169  32 205  85  63  20   8 241\n",
      "  118 254  56 106 161 135 154  25 184 171 232 236 103 253 234 170  39 174\n",
      "   78 203 159 119   7 177  52  37  45 204 129  74 229  16  97 124]]\n",
      "reg_coeff: 99999.99999999999, acc: 0.550\n",
      "reg_coeff: 10000.0, acc: 0.550\n",
      "reg_coeff: 1000.0, acc: 0.573\n",
      "reg_coeff: 100.0, acc: 0.769\n",
      "reg_coeff: 10.0, acc: 0.796\n",
      "reg_coeff: 1.0, acc: 0.808\n",
      "reg_coeff: 0.1, acc: 0.808\n",
      "reg_coeff: 0.05, acc: 0.808\n",
      "reg_coeff: 0.02, acc: 0.808\n",
      "reg_coeff: 0.01, acc: 0.808\n",
      "\n",
      "\n",
      "For PCA with _5 components\n",
      "best_acc 0.8076923076923077 best_reg 1\n",
      "best_f1 and f1 reg: 0.8317384395359924 1\n",
      "best_precision and precision reg: 0.806214972303682 10\n",
      "best_recall and recall reg: 1.0 1e-05\n"
     ]
    }
   ],
   "source": [
    "# 5 fold cross-validation\n",
    "folds = 5\n",
    "\n",
    "# total number of training samples\n",
    "num_train_val = X_train_val_5.shape[0]\n",
    "\n",
    "#shuffleing indices of samples to remove potential ordering bias\n",
    "sample_idx = np.arange(num_train_val)\n",
    "shuffle(sample_idx)\n",
    "\n",
    "print(sample_idx.shape)\n",
    "\n",
    "# splitting indices into 10 folds\n",
    "folds_idx = sample_idx.reshape(folds, -1)\n",
    "print('index of folds\\n', folds_idx)\n",
    "\n",
    "# set of hyperparameters to be tested\n",
    "regTerms = [.00001, .0001, .001, .01, .1, 1, 10, 20, 50, 100]\n",
    "\n",
    "best_acc_5 = 0.0\n",
    "best_reg_5 = 0.0\n",
    "best_f1_5 = 0.0\n",
    "best_precision_5 = 0.0\n",
    "best_recall_5 = 0.0\n",
    "\n",
    "for reg in regTerms:\n",
    "    \n",
    "    # 10-fold cross-validation\n",
    "    sum_acc = 0.0\n",
    "    sum_f1 = 0.0\n",
    "    sum_precision = 0.0\n",
    "    sum_recall = 0.0\n",
    "    \n",
    "    for fold in range(folds):\n",
    "        \n",
    "        index_of_folds_temp = folds_idx.copy()\n",
    "        \n",
    "        valid_index = index_of_folds_temp[fold,:].reshape(-1) #get the index of the validation set\n",
    "        train_index = np.delete(index_of_folds_temp, fold, 0).reshape(-1) #get the index of the training set\n",
    "      \n",
    "        # training set\n",
    "        X_train = X_train_val_5[train_index]\n",
    "        y_train = y_train_val_5[train_index]\n",
    "        \n",
    "        # validation set\n",
    "        X_valid = X_train_val_5[valid_index]\n",
    "        y_valid = y_train_val_5[valid_index]\n",
    "                \n",
    "        # build the model with different hyperparameters\n",
    "        clf = LogisticRegression(penalty='l2', C=reg, solver='lbfgs')\n",
    "        \n",
    "        #train the model with the training set\n",
    "        clf.fit(X_train, y_train)\n",
    "        \n",
    "        y_valid_pred = clf.predict(X_valid)\n",
    "        acc = accuracy_score(y_valid, y_valid_pred)\n",
    "        f1 = f1_score(y_valid, y_valid_pred)\n",
    "        precision = precision_score(y_valid, y_valid_pred)\n",
    "        recall = recall_score(y_valid, y_valid_pred)\n",
    "        \n",
    "        sum_acc += acc\n",
    "        sum_f1 += f1\n",
    "        sum_precision += precision \n",
    "        sum_recall += recall\n",
    "    \n",
    "    cur_acc = sum_acc / folds\n",
    "    cur_f1 = sum_f1 / folds\n",
    "    cur_precision = sum_precision / folds\n",
    "    cur_recall = sum_recall / folds\n",
    "    \n",
    "    print(\"reg_coeff: {}, acc: {:.3f}\".format(1.0/reg, cur_acc))\n",
    "    \n",
    "    # store the best hyperparameter\n",
    "    if cur_acc > best_acc_5:\n",
    "        best_acc_5 = cur_acc\n",
    "        best_reg = reg\n",
    "        \n",
    "    # storing best of each metric to see if they're associated with different regularization terms \n",
    "    if cur_f1 > best_f1_5:\n",
    "        best_f1_5 = cur_f1\n",
    "        best_f1_reg = reg\n",
    "    if cur_precision > best_precision_5:\n",
    "        best_precision_5 = cur_precision\n",
    "        best_precision_reg = reg\n",
    "    if cur_recall > best_recall_5:\n",
    "        best_recall_5 = cur_recall\n",
    "        best_recall_reg = reg\n",
    "\n",
    "print(\"\\n\\nFor PCA with _5 components\")        \n",
    "print('best_acc', best_acc_5, 'best_reg', best_reg)\n",
    "print(\"best_f1 and f1 reg:\", best_f1_5, best_f1_reg)\n",
    "print(\"best_precision and precision reg:\", best_precision_5, best_precision_reg)\n",
    "print(\"best_recall and recall reg:\", best_recall_5, best_recall_reg)"
   ]
  },
  {
   "cell_type": "code",
   "execution_count": 59,
   "metadata": {},
   "outputs": [
    {
     "name": "stdout",
     "output_type": "stream",
     "text": [
      "(260,)\n",
      "index of folds\n",
      " [[245 249   0  94  69 193   6   2  72 105 152 171 166 254 149 221 143 181\n",
      "   48 227   5 142 147 100 117 179  75 150  79  78  66 160 153 200 186 116\n",
      "   92 256 238 220 214 173 217 183 216 190  74  36 114  20 161 242]\n",
      " [ 60 126 124 121  89  96 194 169  65 139 130  45  88 209 257 206 188 111\n",
      "   38  15 172   9  61 253 251 120 180  22  49  31  84  11  46  86 140  87\n",
      "   19  37  47 110 177 233 131 125 127  14 101 239 156  67  34 198]\n",
      " [201 204 191  10 210 192 205 135 229 118 202 106 158  51  13   1   4 228\n",
      "   12 211 178  57 223 203 168 195 231 136 241 222  43  54 255 122  91  16\n",
      "  104 219  28  17 252  40  56  24 159  58  50 165  62  83  29 151]\n",
      " [243 103 174  68  42 162  52 244 218 226  90  98 215 133 236  39  71  53\n",
      "   59  85 250  30  44 157 146 115  55 234 176 154  35 237 155  93 119 248\n",
      "   26 187 102 208 144  70  27 175 128 123 230 141  81 258 184  76]\n",
      " [246  95  25 182 167 235  33   3  18 113 224 225 134 196 199  80 108 197\n",
      "  212  97  41  64  82 185 232 213  99  73   8  21  23 138 145 240 163 247\n",
      "  148 112 132 107 164  32 109  63 170 129 137 189 259 207  77   7]]\n",
      "reg_coeff: 99999.99999999999, acc: 0.527\n",
      "reg_coeff: 10000.0, acc: 0.527\n",
      "reg_coeff: 1000.0, acc: 0.615\n",
      "reg_coeff: 100.0, acc: 0.808\n",
      "reg_coeff: 10.0, acc: 0.827\n",
      "reg_coeff: 1.0, acc: 0.835\n",
      "reg_coeff: 0.1, acc: 0.846\n",
      "reg_coeff: 0.05, acc: 0.846\n",
      "reg_coeff: 0.02, acc: 0.846\n",
      "reg_coeff: 0.01, acc: 0.846\n",
      "\n",
      "\n",
      "For PCA with _10 components\n",
      "best_acc 0.8461538461538461 best_reg 10\n",
      "best_f1 and f1 reg: 0.8581759643250308 10\n",
      "best_precision and precision reg: 0.8313999682186557 10\n",
      "best_recall and recall reg: 1.0 1e-05\n"
     ]
    }
   ],
   "source": [
    "# 5 fold cross-validation\n",
    "folds = 5\n",
    "\n",
    "# total number of training samples\n",
    "num_train_val = X_train_val_10.shape[0]\n",
    "\n",
    "#shuffleing indices of samples to remove potential ordering bias\n",
    "sample_idx = np.arange(num_train_val)\n",
    "shuffle(sample_idx)\n",
    "\n",
    "print(sample_idx.shape)\n",
    "\n",
    "# splitting indices into 10 folds\n",
    "folds_idx = sample_idx.reshape(folds, -1)\n",
    "print('index of folds\\n', folds_idx)\n",
    "\n",
    "# set of hyperparameters to be tested\n",
    "regTerms = [.00001, .0001, .001, .01, .1, 1, 10, 20, 50, 100]\n",
    "\n",
    "best_acc_10 = 0.0\n",
    "best_reg_10 = 0.0\n",
    "best_f1_10 = 0.0\n",
    "best_precision_10 = 0.0\n",
    "best_recall_10 = 0.0\n",
    "\n",
    "for reg in regTerms:\n",
    "    \n",
    "    # 10-fold cross-validation\n",
    "    sum_acc = 0.0\n",
    "    sum_f1 = 0.0\n",
    "    sum_precision = 0.0\n",
    "    sum_recall = 0.0\n",
    "    \n",
    "    for fold in range(folds):\n",
    "        \n",
    "        index_of_folds_temp = folds_idx.copy()\n",
    "        \n",
    "        valid_index = index_of_folds_temp[fold,:].reshape(-1) #get the index of the validation set\n",
    "        train_index = np.delete(index_of_folds_temp, fold, 0).reshape(-1) #get the index of the training set\n",
    "      \n",
    "        # training set\n",
    "        X_train = X_train_val_10[train_index]\n",
    "        y_train = y_train_val_10[train_index]\n",
    "        \n",
    "        # validation set\n",
    "        X_valid = X_train_val_10[valid_index]\n",
    "        y_valid = y_train_val_10[valid_index]\n",
    "                \n",
    "        # build the model with different hyperparameters\n",
    "        clf = LogisticRegression(penalty='l2', C=reg, solver='lbfgs')\n",
    "        \n",
    "        #train the model with the training set\n",
    "        clf.fit(X_train, y_train)\n",
    "        \n",
    "        y_valid_pred = clf.predict(X_valid)\n",
    "        acc = accuracy_score(y_valid, y_valid_pred)\n",
    "        f1 = f1_score(y_valid, y_valid_pred)\n",
    "        precision = precision_score(y_valid, y_valid_pred)\n",
    "        recall = recall_score(y_valid, y_valid_pred)\n",
    "        \n",
    "        sum_acc += acc\n",
    "        sum_f1 += f1\n",
    "        sum_precision += precision \n",
    "        sum_recall += recall\n",
    "    \n",
    "    cur_acc = sum_acc / folds\n",
    "    cur_f1 = sum_f1 / folds\n",
    "    cur_precision = sum_precision / folds\n",
    "    cur_recall = sum_recall / folds\n",
    "    \n",
    "    print(\"reg_coeff: {}, acc: {:.3f}\".format(1.0/reg, cur_acc))\n",
    "    \n",
    "    # store the best hyperparameter\n",
    "    if cur_acc > best_acc_10:\n",
    "        best_acc_10 = cur_acc\n",
    "        best_reg = reg\n",
    "        \n",
    "    # storing best of each metric to see if they're associated with different regularization terms \n",
    "    if cur_f1 > best_f1_10:\n",
    "        best_f1_10 = cur_f1\n",
    "        best_f1_reg = reg\n",
    "    if cur_precision > best_precision_10:\n",
    "        best_precision_10 = cur_precision\n",
    "        best_precision_reg = reg\n",
    "    if cur_recall > best_recall_10:\n",
    "        best_recall_10 = cur_recall\n",
    "        best_recall_reg = reg\n",
    "\n",
    "print(\"\\n\\nFor PCA with _10 components\")        \n",
    "print('best_acc', best_acc_10, 'best_reg', best_reg)\n",
    "print(\"best_f1 and f1 reg:\", best_f1_10, best_f1_reg)\n",
    "print(\"best_precision and precision reg:\", best_precision_10, best_precision_reg)\n",
    "print(\"best_recall and recall reg:\", best_recall_10, best_recall_reg)"
   ]
  },
  {
   "attachments": {},
   "cell_type": "markdown",
   "metadata": {},
   "source": [
    "## Train Log Regression models each with best Reg Terms per PCA Decomposition\n"
   ]
  },
  {
   "cell_type": "code",
   "execution_count": 68,
   "metadata": {},
   "outputs": [
    {
     "name": "stdout",
     "output_type": "stream",
     "text": [
      "Evaluation Metrics for _2 component PCA decomp + Logistic Regression:\n",
      "\n",
      "accuracy: 0.558, recall: 0.800, precision: 0.429, f1: 0.558,\n"
     ]
    }
   ],
   "source": [
    "# training model of full training data with best regularization term \n",
    "clf_2 = LogisticRegression(penalty='l2', C=10, solver='lbfgs')    \n",
    "clf_2.fit(X_train_val_2, y_train_val_2)\n",
    "\n",
    "y_prediction_2 = clf_2.predict(X_test_2)\n",
    "acc_2 = accuracy_score(y_test_2, y_prediction_2)\n",
    "f1_2 = f1_score(y_test_2, y_prediction_2)\n",
    "recall_2 = recall_score(y_test_2, y_prediction_2)\n",
    "precision_2 = precision_score(y_test_2, y_prediction_2)\n",
    "\n",
    "print(\"Evaluation Metrics for _2 component PCA decomp + Logistic Regression:\\n\")\n",
    "print(\"accuracy: {:.3f}, recall: {:.3f}, precision: {:.3f}, f1: {:.3f},\".format(acc_2, recall_2, precision_2, f1_2))"
   ]
  },
  {
   "cell_type": "code",
   "execution_count": 65,
   "metadata": {},
   "outputs": [
    {
     "name": "stdout",
     "output_type": "stream",
     "text": [
      "Evaluation Metrics for _5 component PCA decomp + Logistic Regression:\n",
      "\n",
      "accuracy: 0.744, recall: 0.773, precision: 0.739, f1: 0.756,\n"
     ]
    }
   ],
   "source": [
    "clf_5 = LogisticRegression(penalty='l2', C=1, solver='lbfgs')    \n",
    "clf_5.fit(X_train_val_5, y_train_val_5)\n",
    "\n",
    "y_prediction_5 = clf_5.predict(X_test_5)\n",
    "acc_5 = accuracy_score(y_test_5, y_prediction_5)\n",
    "f1_5 = f1_score(y_test_5, y_prediction_5)\n",
    "recall_5 = recall_score(y_test_5, y_prediction_5)\n",
    "precision_5 = precision_score(y_test_5, y_prediction_5)\n",
    "\n",
    "print(\"Evaluation Metrics for _5 component PCA decomp + Logistic Regression:\\n\")\n",
    "print(\"accuracy: {:.3f}, recall: {:.3f}, precision: {:.3f}, f1: {:.3f},\".format(acc_5, recall_5, precision_5, f1_5))"
   ]
  },
  {
   "cell_type": "code",
   "execution_count": 64,
   "metadata": {},
   "outputs": [
    {
     "name": "stdout",
     "output_type": "stream",
     "text": [
      "Evaluation Metrics for _10 component PCA decomp + Logistic Regression:\n",
      "\n",
      "accuracy: 0.884, recall: 0.929, precision: 0.897, f1: 0.912,\n"
     ]
    }
   ],
   "source": [
    "clf_10 = LogisticRegression(penalty='l2', C=1, solver='lbfgs')    \n",
    "clf_10.fit(X_train_val_10, y_train_val_10)\n",
    "\n",
    "y_prediction_10 = clf_10.predict(X_test_10)\n",
    "acc_10 = accuracy_score(y_test_10, y_prediction_10)\n",
    "f1_10 = f1_score(y_test_10, y_prediction_10)\n",
    "recall_10 = recall_score(y_test_10, y_prediction_10)\n",
    "precision_10 = precision_score(y_test_10, y_prediction_10)\n",
    "\n",
    "print(\"Evaluation Metrics for _10 component PCA decomp + Logistic Regression:\\n\")\n",
    "print(\"accuracy: {:.3f}, recall: {:.3f}, precision: {:.3f}, f1: {:.3f},\".format(acc_10, recall_10, precision_10, f1_10))"
   ]
  },
  {
   "attachments": {},
   "cell_type": "markdown",
   "metadata": {},
   "source": [
    "## Discussion: \n",
    "\n",
    "For the logisitic regression model it appears as though despite a majority of the datas variance being captured within the first two components we see substantial accuracy improvements as more components are used. I feel quite unclear on why this would be true, as hypothetically I imagine the amount of variance within a set of features would closely correspond to the accuracy a model predicts with when fed that data. "
   ]
  }
 ],
 "metadata": {
  "kernelspec": {
   "display_name": "Python 3",
   "language": "python",
   "name": "python3"
  },
  "language_info": {
   "codemirror_mode": {
    "name": "ipython",
    "version": 3
   },
   "file_extension": ".py",
   "mimetype": "text/x-python",
   "name": "python",
   "nbconvert_exporter": "python",
   "pygments_lexer": "ipython3",
   "version": "3.10.4"
  },
  "orig_nbformat": 4,
  "vscode": {
   "interpreter": {
    "hash": "6fa2c8eb31e883fb5a22fbf67621de023b5dc228d46f0c7fcdad9efff2c48063"
   }
  }
 },
 "nbformat": 4,
 "nbformat_minor": 2
}
