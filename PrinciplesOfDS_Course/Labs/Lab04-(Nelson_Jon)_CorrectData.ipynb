{
 "cells": [
  {
   "attachments": {},
   "cell_type": "markdown",
   "metadata": {},
   "source": [
    "# Lab 4: Logisitic Regression\n"
   ]
  },
  {
   "attachments": {},
   "cell_type": "markdown",
   "metadata": {},
   "source": [
    "## Import and Inspect Data"
   ]
  },
  {
   "cell_type": "code",
   "execution_count": 1,
   "metadata": {},
   "outputs": [
    {
     "name": "stdout",
     "output_type": "stream",
     "text": [
      "<class 'pandas.core.frame.DataFrame'>\n",
      "RangeIndex: 303 entries, 0 to 302\n",
      "Data columns (total 14 columns):\n",
      " #   Column    Non-Null Count  Dtype  \n",
      "---  ------    --------------  -----  \n",
      " 0   age       303 non-null    int64  \n",
      " 1   sex       303 non-null    int64  \n",
      " 2   cp        303 non-null    int64  \n",
      " 3   trestbps  303 non-null    int64  \n",
      " 4   chol      303 non-null    int64  \n",
      " 5   fbs       303 non-null    int64  \n",
      " 6   restecg   303 non-null    int64  \n",
      " 7   thalach   303 non-null    int64  \n",
      " 8   exang     303 non-null    int64  \n",
      " 9   oldpeak   303 non-null    float64\n",
      " 10  slope     303 non-null    int64  \n",
      " 11  ca        303 non-null    int64  \n",
      " 12  thal      303 non-null    int64  \n",
      " 13  target    303 non-null    int64  \n",
      "dtypes: float64(1), int64(13)\n",
      "memory usage: 33.3 KB\n",
      "None\n",
      "   age  sex  cp  trestbps  chol  fbs  restecg  thalach  exang  oldpeak  slope  \\\n",
      "0   63    1   3       145   233    1        0      150      0      2.3      0   \n",
      "1   37    1   2       130   250    0        1      187      0      3.5      0   \n",
      "2   41    0   1       130   204    0        0      172      0      1.4      2   \n",
      "3   56    1   1       120   236    0        1      178      0      0.8      2   \n",
      "4   57    0   0       120   354    0        1      163      1      0.6      2   \n",
      "\n",
      "   ca  thal  target  \n",
      "0   0     1       1  \n",
      "1   0     2       1  \n",
      "2   0     2       1  \n",
      "3   0     2       1  \n",
      "4   0     2       1  \n"
     ]
    }
   ],
   "source": [
    "import numpy as np\n",
    "import pandas as pd \n",
    "import matplotlib.pyplot as plt\n",
    "\n",
    "heartData = pd.read_csv(\"D:\\Programming\\Python_code\\PrinciplesOfDS_Course\\Labs\\Data\\heart.csv\")\n",
    "print(heartData.info()) # all data types int or float, no non-numeric features. No categorical features to convert \n",
    "\n",
    "print(heartData.head())\n",
    "\n",
    "# Option setup: \n",
    "pd.set_option(\"display.max_rows\", 1500)\n",
    "pd.set_option(\"display.expand_frame_repr\", True)\n",
    "pd.set_option('display.width', 1000)\n"
   ]
  },
  {
   "cell_type": "code",
   "execution_count": 2,
   "metadata": {},
   "outputs": [
    {
     "data": {
      "text/plain": [
       "<AxesSubplot: >"
      ]
     },
     "execution_count": 2,
     "metadata": {},
     "output_type": "execute_result"
    },
    {
     "data": {
      "image/png": "[encoded data removed]",
      "text/plain": [
       "<Figure size 640x480 with 1 Axes>"
      ]
     },
     "metadata": {},
     "output_type": "display_data"
    }
   ],
   "source": [
    "# Check for missing values \n",
    "heartData.isna().sum()/heartData.shape[0] # all values 0. No missing values. \n",
    "\n",
    "#heartData['target'].hist() # fast and informative, but ugly. \n",
    "\n",
    "# still fast. less noise. \n",
    "heartData.target.value_counts().plot(kind = 'bar') # Data is balanced with no significant dominance of samples by either of two categories. \n",
    "# balanced data means an accuracy measure is appropriate. "
   ]
  },
  {
   "attachments": {},
   "cell_type": "markdown",
   "metadata": {},
   "source": [
    "## Split and Normalize Data\n"
   ]
  },
  {
   "cell_type": "code",
   "execution_count": 10,
   "metadata": {},
   "outputs": [
    {
     "name": "stdout",
     "output_type": "stream",
     "text": [
      "(260, 13)\n",
      "(260,)\n",
      "[[-0.50885855  0.68478212 -0.95381269 ... -0.67388958 -0.71183597\n",
      "   1.13120328]\n",
      " [-1.28191577 -1.4603185   0.99121711 ... -0.67388958 -0.71183597\n",
      "  -0.50275701]\n",
      " [-0.50885855  0.68478212  0.99121711 ... -0.67388958  0.29951568\n",
      "   1.13120328]\n",
      " ...\n",
      " [-2.82803021  0.68478212  0.01870221 ...  0.96359912 -0.71183597\n",
      "  -0.50275701]\n",
      " [-0.50885855 -1.4603185   0.99121711 ... -0.67388958 -0.71183597\n",
      "  -0.50275701]\n",
      " [ 0.92681915  0.68478212 -0.95381269 ... -0.67388958  0.29951568\n",
      "   1.13120328]]\n",
      "<class 'numpy.ndarray'> [0 1 0 0 1 1 1 1 1 1 0 0 0 0 1 1 0 1 0 1 1 1 1 1 1 1 1 0 1 0 0 1 1 1 1 0 0\n",
      " 0 1 1 0 1 1 1 1 1 0 1 0 0 1 1 1 1 1 1 1 0 1 1 1 1 0 0 0 0 1 0 1 1 1 1 1 1\n",
      " 1 1 0 0 1 1 1 1 1 0 1 0 0 1 0 0 0 0 0 1 0 1 1 0 1 0 0 0 0 1 1 0 1 1 1 0 1\n",
      " 0 0 0 0 1 1 1 0 0 1 1 0 0 0 1 0 0 0 1 0 0 0 1 0 1 1 0 0 0 1 0 1 0 1 0 0 1\n",
      " 1 0 0 1 1 1 1 0 0 0 1 1 1 0 1 1 1 1 0 0 0 0 0 0 1 1 1 1 0 0 0 0 0 0 1 1 0\n",
      " 0 1 1 0 1 0 1 1 0 1 1 0 1 1 0 1 1 0 1 1 1 1 1 1 0 0 1 1 1 1 1 0 0 1 0 0 0\n",
      " 1 1 0 0 1 1 0 1 1 1 1 0 0 1 0 1 1 1 1 0 1 0 0 1 1 0 0 1 0 0 1 1 0 1 1 1 1\n",
      " 0]\n",
      "<class 'numpy.ndarray'>\n",
      "<class 'numpy.ndarray'>\n",
      "<class 'numpy.ndarray'>\n",
      "<class 'numpy.ndarray'>\n"
     ]
    }
   ],
   "source": [
    "from sklearn.model_selection import train_test_split\n",
    "from sklearn.preprocessing import StandardScaler\n",
    "from sklearn.linear_model import LogisticRegression\n",
    "from sklearn.metrics import accuracy_score\n",
    "from sklearn.metrics import f1_score\n",
    "from sklearn.metrics import recall_score\n",
    "from sklearn.metrics import precision_score\n",
    "from random import shuffle\n",
    "import random\n",
    "\n",
    "X, y = heartData.drop(columns='target'), heartData.target\n",
    "\n",
    "# Subtle but important step for this cross-validation workflow: Convert y to ndarry\n",
    "y = y.to_numpy() ##########################\n",
    "\n",
    "# samples should be divided for same size folds, at 10 folds we need a value divisible by 10 \n",
    "X.shape[0] # 303 observations\n",
    "\n",
    "260/303 # 0.858085808580858 ; 85% of data for trainig and ~15% for testing is a good split ratio \n",
    "\n",
    "X_train_val, X_test, y_train_val, y_test = train_test_split(X, y, test_size= 0.14, random_state=2)\n",
    "\n",
    "print(X_train_val.shape) # correct split value achieved \n",
    "print(y_train_val.shape)\n",
    "\n",
    "normalizer = StandardScaler()\n",
    "X_train_val = normalizer.fit_transform(X_train_val)\n",
    "X_test = normalizer.transform(X_test)\n",
    "\n",
    "print(X_train_val)\n",
    "print(type(y_train_val), y_train_val) # the assignment of values is just wrong here.. not sure why, but I am getting indices from all over... ok. nvm makes sense.. its random selection.. but its fucking up my validation\n",
    "print(type(y_train_val))\n",
    "print(type(y_test))\n",
    "print(type(X_train_val))\n",
    "print(type(X_test))\n",
    "# ok ... so the type of my data is affecting the processing here.. series has the index attached, an ndarray seems to not carry index with it... thus my issue of referencing values emerges. ... too in the weeds to think about how I would solve this without dropping the series data structure.. also not clear on if it matters in the first place tbh. ... should consider this when I am not as confused. "
   ]
  },
  {
   "cell_type": "code",
   "execution_count": 28,
   "metadata": {},
   "outputs": [
    {
     "name": "stdout",
     "output_type": "stream",
     "text": [
      "(260,)\n",
      "index of folds\n",
      " [[  5 197 164 129 132  97  37 237 213   4 189  75 152  51 143 148 211 202\n",
      "  243 183   9 151 128 247  61 177]\n",
      " [249  59  56 140 235 159 146  39  72  44 179   7 108 180 206  64  82 157\n",
      "   29 160  45 182  83  53 184 134]\n",
      " [ 99 230 236 199  55  62 204  46 112 198 107  65 161 252  79 192 145 232\n",
      "  118  52   1  54  15 218 171 169]\n",
      " [ 10 102 166  40  21  28  49   8 101 255 238 203  93 135 122 188  78  24\n",
      "  124  85 113 190 233 103   6 212]\n",
      " [ 88 163 158  14 114 175  92 168 121 155 105  47 231 162 116  12  89 117\n",
      "   33 178 126  84 137 125  73 223]\n",
      " [ 58 216 253  18 186 226 131 214 229  67  34 207 200 130 110 181  42  98\n",
      "   68 209 259  17   3 257  63 251]\n",
      " [147 136 144  27 241  86 196 244  30 170  74 221  22  32 119 201  60 228\n",
      "   43 106 239 156 225 193  19 174]\n",
      " [246  76  16  71 100 222  50  69 248 194 176 185  87  23 240  41 123  31\n",
      "  104 254 165 150 256  70  36 234]\n",
      " [ 20 173 187   2 127  90  81 172  77 139 224 219  48 217  38  11 258 205\n",
      "  154 220 191 109 138 120   0 195]\n",
      " [227  66 141 153 215  35 133 210  57  13 208  96 115 242 149  91 250  95\n",
      "   94  80 142 167  25 111 245  26]]\n",
      "reg_coeff: 99999.99999999999, acc: 0.562\n",
      "reg_coeff: 10000.0, acc: 0.562\n",
      "reg_coeff: 1000.0, acc: 0.662\n",
      "reg_coeff: 100.0, acc: 0.815\n",
      "reg_coeff: 10.0, acc: 0.812\n",
      "reg_coeff: 1.0, acc: 0.823\n",
      "reg_coeff: 0.1, acc: 0.815\n",
      "reg_coeff: 0.05, acc: 0.815\n",
      "reg_coeff: 0.02, acc: 0.815\n",
      "reg_coeff: 0.01, acc: 0.815\n",
      "best_acc 0.8230769230769232 best_reg 1\n",
      "best_f1 and f1 reg: 0.8487368975401429 1\n",
      "best_precision and precision reg: 0.8171991488903254 1\n",
      "best_recall and recall reg: 1.0 1e-05\n"
     ]
    }
   ],
   "source": [
    "# 10 fold cross-validation\n",
    "folds = 10\n",
    "\n",
    "# total number of training samples\n",
    "num_train_val = X_train_val.shape[0]\n",
    "\n",
    "#shuffleing indices of samples to remove potential ordering bias\n",
    "sample_idx = np.arange(num_train_val)\n",
    "shuffle(sample_idx)\n",
    "\n",
    "print(sample_idx.shape)\n",
    "\n",
    "# splitting indices into 10 folds\n",
    "folds_idx = sample_idx.reshape(folds, -1)\n",
    "print('index of folds\\n', folds_idx)\n",
    "\n",
    "# set of hyperparameters to be tested\n",
    "regTerms = [.00001, .0001, .001, .01, .1, 1, 10, 20, 50, 100]\n",
    "\n",
    "best_acc = 0.0\n",
    "best_reg = 0.0\n",
    "best_f1 = 0.0\n",
    "best_precision = 0.0\n",
    "best_recall = 0.0\n",
    "\n",
    "for reg in regTerms:\n",
    "    \n",
    "    # 10-fold cross-validation\n",
    "    sum_acc = 0.0\n",
    "    sum_f1 = 0.0\n",
    "    sum_precision = 0.0\n",
    "    sum_recall = 0.0\n",
    "    \n",
    "    for fold in range(folds):\n",
    "        \n",
    "        index_of_folds_temp = folds_idx.copy()\n",
    "        \n",
    "        valid_index = index_of_folds_temp[fold,:].reshape(-1) #get the index of the validation set\n",
    "        train_index = np.delete(index_of_folds_temp, fold, 0).reshape(-1) #get the index of the training set\n",
    "      \n",
    "        # training set\n",
    "        X_train = X_train_val[train_index]\n",
    "        y_train = y_train_val[train_index]\n",
    "        \n",
    "        # validation set\n",
    "        X_valid = X_train_val[valid_index]\n",
    "        y_valid = y_train_val[valid_index]\n",
    "                \n",
    "        # build the model with different hyperparameters\n",
    "        clf = LogisticRegression(penalty='l2', C=reg, solver='lbfgs')\n",
    "        \n",
    "        #train the model with the training set\n",
    "        clf.fit(X_train, y_train)\n",
    "        \n",
    "        y_valid_pred = clf.predict(X_valid)\n",
    "        acc = accuracy_score(y_valid, y_valid_pred)\n",
    "        f1 = f1_score(y_valid, y_valid_pred)\n",
    "        precision = precision_score(y_valid, y_valid_pred)\n",
    "        recall = recall_score(y_valid, y_valid_pred)\n",
    "        \n",
    "        sum_acc += acc\n",
    "        sum_f1 += f1\n",
    "        sum_precision += precision \n",
    "        sum_recall += recall\n",
    "    \n",
    "    cur_acc = sum_acc / folds\n",
    "    cur_f1 = sum_f1 / folds\n",
    "    cur_precision = sum_precision / folds\n",
    "    cur_recall = sum_recall / folds\n",
    "    \n",
    "    print(\"reg_coeff: {}, acc: {:.3f}\".format(1.0/reg, cur_acc))\n",
    "    \n",
    "    # store the best hyperparameter\n",
    "    if cur_acc > best_acc:\n",
    "        best_acc = cur_acc\n",
    "        best_reg = reg\n",
    "        \n",
    "    # storing best of each metric to see if they're associated with different regularization terms \n",
    "    if cur_f1 > best_f1:\n",
    "        best_f1 = cur_f1\n",
    "        best_f1_reg = reg\n",
    "    if cur_precision > best_precision:\n",
    "        best_precision = cur_precision\n",
    "        best_precision_reg = reg\n",
    "    if cur_recall > best_recall:\n",
    "        best_recall = cur_recall\n",
    "        best_recall_reg = reg\n",
    "\n",
    "        \n",
    "print('best_acc', best_acc, 'best_reg', best_reg)\n",
    "print(\"best_f1 and f1 reg:\", best_f1, best_f1_reg)\n",
    "print(\"best_precision and precision reg:\", best_precision, best_precision_reg)\n",
    "print(\"best_recall and recall reg:\", best_recall, best_recall_reg)"
   ]
  },
  {
   "attachments": {},
   "cell_type": "markdown",
   "metadata": {},
   "source": [
    "## Retraining with best regulization coefficient\n",
    "\n",
    "The best regularization coefficient is not clear, after running the cross validation 10+ times I see variable outcomes, either '.1', '1', or '10' are presented as the best regularization coefficient, with none of them dominating. Somtimes there is a preferred regularization coefficient for the different evaluation metetrics, but most often they all agree on the same reg. Excluding recall, which always has a best recall of 1.0 for the reg term '1e-5'."
   ]
  },
  {
   "cell_type": "code",
   "execution_count": 30,
   "metadata": {},
   "outputs": [
    {
     "name": "stdout",
     "output_type": "stream",
     "text": [
      "accuracy: 0.907, recall: 1.000, precision: 0.826, f1: 0.905,\n"
     ]
    }
   ],
   "source": [
    "# training model of full training data with best regularization term \n",
    "clf = LogisticRegression(penalty='l2', C=best_reg, solver='lbfgs')    \n",
    "clf.fit(X_train_val, y_train_val)\n",
    "\n",
    "y_prediction = clf.predict(X_test)\n",
    "acc = accuracy_score(y_test, y_prediction)\n",
    "f1 = f1_score(y_test, y_prediction)\n",
    "recall = recall_score(y_test, y_prediction)\n",
    "precision = precision_score(y_test, y_prediction)\n",
    "\n",
    "print(\"accuracy: {:.3f}, recall: {:.3f}, precision: {:.3f}, f1: {:.3f},\".format(acc, recall, precision, f1))"
   ]
  },
  {
   "attachments": {},
   "cell_type": "markdown",
   "metadata": {},
   "source": [
    "## Visualize the model parameter vector\n"
   ]
  },
  {
   "cell_type": "code",
   "execution_count": 40,
   "metadata": {},
   "outputs": [
    {
     "name": "stdout",
     "output_type": "stream",
     "text": [
      "[-0.01747535 -0.81107437  0.85540685 -0.30464949 -0.24286413 -0.04981076\n",
      "  0.27298018  0.51771428 -0.35719624 -0.51705119  0.44221642 -0.67742292\n",
      " -0.5344826 ]\n",
      "['age' 'sex' 'cp' 'trestbps' 'chol' 'fbs' 'restecg' 'thalach' 'exang'\n",
      " 'oldpeak' 'slope' 'ca' 'thal' 'target']\n"
     ]
    },
    {
     "data": {
      "image/png": "[encoded data removed]",
      "text/plain": [
       "<Figure size 640x480 with 1 Axes>"
      ]
     },
     "metadata": {},
     "output_type": "display_data"
    }
   ],
   "source": [
    "# grab the coefficient vector (parameters)\n",
    "weights = clf.coef_[0]\n",
    "print(weights)\n",
    "\n",
    "print(heartData.columns.values)\n",
    "col_names = heartData.columns.values[:13, ] # subsetting out the target variable as no weight exists for it \n",
    "\n",
    "#generating bar plot \n",
    "plt.bar(range(len(weights)), weights)\n",
    "plt.xlabel('Feature index')\n",
    "plt.ylabel('Weight')\n",
    "plt.xticks(range(len(weights)), col_names, rotation=90) #labeling x-axis with corresponding features\n",
    "plt.show()"
   ]
  },
  {
   "attachments": {},
   "cell_type": "markdown",
   "metadata": {},
   "source": [
    "## Discussion \n",
    "\n",
    "The features which correlate to high absolute values in their weights such as sex, and cp, are likely showing larger weights because they have a strong correlation with the target variable. In other words, they offer more insight about the target variable and thus have their signals amplified within the model. This means they are being weighted more heavily, and are thus more powerful in producing good predictions according to the model. "
   ]
  }
 ],
 "metadata": {
  "kernelspec": {
   "display_name": "Python 3",
   "language": "python",
   "name": "python3"
  },
  "language_info": {
   "codemirror_mode": {
    "name": "ipython",
    "version": 3
   },
   "file_extension": ".py",
   "mimetype": "text/x-python",
   "name": "python",
   "nbconvert_exporter": "python",
   "pygments_lexer": "ipython3",
   "version": "3.10.4"
  },
  "orig_nbformat": 4
 },
 "nbformat": 4,
 "nbformat_minor": 2
}
