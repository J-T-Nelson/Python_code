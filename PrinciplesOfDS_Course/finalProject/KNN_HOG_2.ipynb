{
 "cells": [
  {
   "attachments": {},
   "cell_type": "markdown",
   "metadata": {},
   "source": [
    "# First Take on Classification: Iteration on KNN\n",
    "\n",
    "\n"
   ]
  },
  {
   "attachments": {},
   "cell_type": "markdown",
   "metadata": {},
   "source": [
    "## Imports and Function Definitions:\n"
   ]
  },
  {
   "cell_type": "code",
   "execution_count": 2,
   "metadata": {},
   "outputs": [
    {
     "name": "stdout",
     "output_type": "stream",
     "text": [
      "d:\\Programming\\Python_code\\PrinciplesOfDS_Course\\finalProject\n"
     ]
    }
   ],
   "source": [
    "import os\n",
    "import numpy as np\n",
    "import pandas as pd \n",
    "import cv2\n",
    "from skimage.feature import hog\n",
    "from sklearn.model_selection import train_test_split\n",
    "from sklearn.neighbors import KNeighborsClassifier\n",
    "from sklearn.metrics import classification_report\n",
    "from glob import glob\n",
    "import matplotlib.pyplot as plt\n",
    "\n",
    "def summary(array):\n",
    "    min_val = np.min(array)\n",
    "    max_val = np.max(array)\n",
    "    sd = np.std(array)\n",
    "    var = np.var(array)\n",
    "    mean = np.mean(array)\n",
    "    median = np.median(array)\n",
    "    percentile25 = np.percentile(array, 25)\n",
    "    percentile50 = np.percentile(array, 50)\n",
    "    percentile75 = np.percentile(array, 75)\n",
    "    \n",
    "    summaryDict = {\"max\":max_val, 'min':min_val, \"mean\":mean, \"median\":median, \"SD\": sd, \n",
    "                   \"var\":var, \"25th\":percentile25, \"50th\": percentile50, \"75th\":percentile75 }\n",
    "    return summaryDict\n",
    "\n",
    "print(os.getcwd())\n",
    "# print(os.listdir(\"./corn/train\"))"
   ]
  },
  {
   "cell_type": "code",
   "execution_count": 3,
   "metadata": {},
   "outputs": [],
   "source": [
    "# center cropping function\n",
    "def center_crop(img, target_size):\n",
    "    h, w = img.shape[:2]\n",
    "    th, tw = target_size\n",
    "\n",
    "    if h < th or w < tw:\n",
    "        raise ValueError(\"Target size should be smaller than the input image size\")\n",
    "\n",
    "    x = (w - tw) // 2\n",
    "    y = (h - th) // 2\n",
    "    cropped_img = img[y:y+th, x:x+tw]\n",
    "\n",
    "    return cropped_img"
   ]
  },
  {
   "attachments": {},
   "cell_type": "markdown",
   "metadata": {},
   "source": [
    "## Preprocessing Data: \n",
    "\n"
   ]
  },
  {
   "cell_type": "code",
   "execution_count": 4,
   "metadata": {},
   "outputs": [],
   "source": [
    "# list files \n",
    "img_folder = './corn/train/*.png'\n",
    "corn = glob(img_folder)\n",
    "\n",
    "# preprocess images: center crop and normalization \n",
    "target_size = (140,140)\n",
    "croppedImages = []\n",
    "\n",
    "for imgPth in corn:\n",
    "    temp_img = cv2.imread(imgPth)\n",
    "    if (temp_img.shape[0] >= target_size[0] & temp_img.shape[1] >= target_size[1]):\n",
    "        croppedimg = center_crop(temp_img, target_size)\n",
    "        croppedimg = (croppedimg / 255).astype(np.float32) # normalize\n",
    "        croppedImages.append(croppedimg)\n",
    "    else:\n",
    "        resizedImg = cv2.resize(temp_img, target_size)\n",
    "        resizedImg = (resizedImg / 255).astype(np.float32) # normalize\n",
    "        croppedImages.append(resizedImg)"
   ]
  },
  {
   "cell_type": "code",
   "execution_count": 5,
   "metadata": {},
   "outputs": [],
   "source": [
    "# Greyscale conversion and HOG feature extraction \n",
    "croppedImages_grey = [cv2.cvtColor(img, cv2.COLOR_BGR2GRAY) for img in croppedImages]\n",
    "\n",
    "hog_features = [hog(img, orientations=9, pixels_per_cell=(8,8), cells_per_block=(2,2)) for img in croppedImages_grey]"
   ]
  },
  {
   "cell_type": "code",
   "execution_count": 27,
   "metadata": {},
   "outputs": [
    {
     "data": {
      "text/plain": [
       "{'max': 1.0,\n",
       " 'min': 0.0,\n",
       " 'mean': 0.12868448,\n",
       " 'median': 0.1079078,\n",
       " 'SD': 0.10591532,\n",
       " 'var': 0.011218056,\n",
       " '25th': 0.041880153119564056,\n",
       " '50th': 0.10790780186653137,\n",
       " '75th': 0.1979237049818039}"
      ]
     },
     "execution_count": 27,
     "metadata": {},
     "output_type": "execute_result"
    }
   ],
   "source": [
    "summary(hog_features)"
   ]
  },
  {
   "cell_type": "code",
   "execution_count": 33,
   "metadata": {},
   "outputs": [
    {
     "name": "stdout",
     "output_type": "stream",
     "text": [
      "9216\n",
      "14322\n"
     ]
    }
   ],
   "source": [
    "hog_features[:2] # its a list of arrays. \n",
    "# sklearn is built to handle such input so long as all lists are of the same shape, which they are. \n",
    "print(len(hog_features[0]))\n",
    "print(len(hog_features))"
   ]
  },
  {
   "attachments": {},
   "cell_type": "markdown",
   "metadata": {},
   "source": [
    "## Train and Tune Model:"
   ]
  },
  {
   "cell_type": "code",
   "execution_count": 6,
   "metadata": {},
   "outputs": [
    {
     "name": "stdout",
     "output_type": "stream",
     "text": [
      "   seed_id    view            image       label\n",
      "0        0     top  train/00000.png      broken\n",
      "1        1  bottom  train/00001.png        pure\n",
      "2        3     top  train/00003.png      broken\n",
      "3        4     top  train/00004.png        pure\n",
      "4        5     top  train/00005.png  discolored\n"
     ]
    },
    {
     "data": {
      "text/plain": [
       "0        broken\n",
       "1          pure\n",
       "2        broken\n",
       "3          pure\n",
       "4    discolored\n",
       "Name: label, dtype: object"
      ]
     },
     "execution_count": 6,
     "metadata": {},
     "output_type": "execute_result"
    }
   ],
   "source": [
    "# Load in label table: \n",
    "train_csv = pd.read_csv(\"./corn/train.csv\")\n",
    "print(train_csv.head())\n",
    "\n",
    "labels = train_csv['label']\n",
    "labels.head()"
   ]
  },
  {
   "cell_type": "code",
   "execution_count": 7,
   "metadata": {},
   "outputs": [
    {
     "data": {
      "text/html": [
       "<style>#sk-container-id-1 {color: black;background-color: white;}#sk-container-id-1 pre{padding: 0;}#sk-container-id-1 div.sk-toggleable {background-color: white;}#sk-container-id-1 label.sk-toggleable__label {cursor: pointer;display: block;width: 100%;margin-bottom: 0;padding: 0.3em;box-sizing: border-box;text-align: center;}#sk-container-id-1 label.sk-toggleable__label-arrow:before {content: \"▸\";float: left;margin-right: 0.25em;color: #696969;}#sk-container-id-1 label.sk-toggleable__label-arrow:hover:before {color: black;}#sk-container-id-1 div.sk-estimator:hover label.sk-toggleable__label-arrow:before {color: black;}#sk-container-id-1 div.sk-toggleable__content {max-height: 0;max-width: 0;overflow: hidden;text-align: left;background-color: #f0f8ff;}#sk-container-id-1 div.sk-toggleable__content pre {margin: 0.2em;color: black;border-radius: 0.25em;background-color: #f0f8ff;}#sk-container-id-1 input.sk-toggleable__control:checked~div.sk-toggleable__content {max-height: 200px;max-width: 100%;overflow: auto;}#sk-container-id-1 input.sk-toggleable__control:checked~label.sk-toggleable__label-arrow:before {content: \"▾\";}#sk-container-id-1 div.sk-estimator input.sk-toggleable__control:checked~label.sk-toggleable__label {background-color: #d4ebff;}#sk-container-id-1 div.sk-label input.sk-toggleable__control:checked~label.sk-toggleable__label {background-color: #d4ebff;}#sk-container-id-1 input.sk-hidden--visually {border: 0;clip: rect(1px 1px 1px 1px);clip: rect(1px, 1px, 1px, 1px);height: 1px;margin: -1px;overflow: hidden;padding: 0;position: absolute;width: 1px;}#sk-container-id-1 div.sk-estimator {font-family: monospace;background-color: #f0f8ff;border: 1px dotted black;border-radius: 0.25em;box-sizing: border-box;margin-bottom: 0.5em;}#sk-container-id-1 div.sk-estimator:hover {background-color: #d4ebff;}#sk-container-id-1 div.sk-parallel-item::after {content: \"\";width: 100%;border-bottom: 1px solid gray;flex-grow: 1;}#sk-container-id-1 div.sk-label:hover label.sk-toggleable__label {background-color: #d4ebff;}#sk-container-id-1 div.sk-serial::before {content: \"\";position: absolute;border-left: 1px solid gray;box-sizing: border-box;top: 0;bottom: 0;left: 50%;z-index: 0;}#sk-container-id-1 div.sk-serial {display: flex;flex-direction: column;align-items: center;background-color: white;padding-right: 0.2em;padding-left: 0.2em;position: relative;}#sk-container-id-1 div.sk-item {position: relative;z-index: 1;}#sk-container-id-1 div.sk-parallel {display: flex;align-items: stretch;justify-content: center;background-color: white;position: relative;}#sk-container-id-1 div.sk-item::before, #sk-container-id-1 div.sk-parallel-item::before {content: \"\";position: absolute;border-left: 1px solid gray;box-sizing: border-box;top: 0;bottom: 0;left: 50%;z-index: -1;}#sk-container-id-1 div.sk-parallel-item {display: flex;flex-direction: column;z-index: 1;position: relative;background-color: white;}#sk-container-id-1 div.sk-parallel-item:first-child::after {align-self: flex-end;width: 50%;}#sk-container-id-1 div.sk-parallel-item:last-child::after {align-self: flex-start;width: 50%;}#sk-container-id-1 div.sk-parallel-item:only-child::after {width: 0;}#sk-container-id-1 div.sk-dashed-wrapped {border: 1px dashed gray;margin: 0 0.4em 0.5em 0.4em;box-sizing: border-box;padding-bottom: 0.4em;background-color: white;}#sk-container-id-1 div.sk-label label {font-family: monospace;font-weight: bold;display: inline-block;line-height: 1.2em;}#sk-container-id-1 div.sk-label-container {text-align: center;}#sk-container-id-1 div.sk-container {/* jupyter's `normalize.less` sets `[hidden] { display: none; }` but bootstrap.min.css set `[hidden] { display: none !important; }` so we also need the `!important` here to be able to override the default hidden behavior on the sphinx rendered scikit-learn.org. See: https://github.com/scikit-learn/scikit-learn/issues/21755 */display: inline-block !important;position: relative;}#sk-container-id-1 div.sk-text-repr-fallback {display: none;}</style><div id=\"sk-container-id-1\" class=\"sk-top-container\"><div class=\"sk-text-repr-fallback\"><pre>KNeighborsClassifier(n_neighbors=10)</pre><b>In a Jupyter environment, please rerun this cell to show the HTML representation or trust the notebook. <br />On GitHub, the HTML representation is unable to render, please try loading this page with nbviewer.org.</b></div><div class=\"sk-container\" hidden><div class=\"sk-item\"><div class=\"sk-estimator sk-toggleable\"><input class=\"sk-toggleable__control sk-hidden--visually\" id=\"sk-estimator-id-1\" type=\"checkbox\" checked><label for=\"sk-estimator-id-1\" class=\"sk-toggleable__label sk-toggleable__label-arrow\">KNeighborsClassifier</label><div class=\"sk-toggleable__content\"><pre>KNeighborsClassifier(n_neighbors=10)</pre></div></div></div></div></div>"
      ],
      "text/plain": [
       "KNeighborsClassifier(n_neighbors=10)"
      ]
     },
     "execution_count": 7,
     "metadata": {},
     "output_type": "execute_result"
    }
   ],
   "source": [
    "# split data, train model, make predictions\n",
    "X_train, X_test, y_train, y_test = train_test_split(hog_features, labels, test_size=0.2, random_state=42)\n",
    "\n",
    "knn = KNeighborsClassifier(n_neighbors=10)\n",
    "knn.fit(X_train, y_train)"
   ]
  },
  {
   "cell_type": "code",
   "execution_count": 8,
   "metadata": {},
   "outputs": [
    {
     "name": "stdout",
     "output_type": "stream",
     "text": [
      "              precision    recall  f1-score   support\n",
      "\n",
      "      broken     0.7500    0.0749    0.1362       921\n",
      "  discolored     0.1429    0.0020    0.0039       507\n",
      "        pure     0.4168    0.9914    0.5868      1159\n",
      "     silkcut     0.5556    0.0180    0.0348       278\n",
      "\n",
      "    accuracy                         0.4272      2865\n",
      "   macro avg     0.4663    0.2716    0.1904      2865\n",
      "weighted avg     0.4889    0.4272    0.2853      2865\n",
      "\n"
     ]
    }
   ],
   "source": [
    "# Evaluate the classifier on the test set\n",
    "y_pred = knn.predict(X_test)\n",
    "print(classification_report(y_test, y_pred, digits = 4))\n"
   ]
  },
  {
   "cell_type": "code",
   "execution_count": 20,
   "metadata": {},
   "outputs": [
    {
     "name": "stdout",
     "output_type": "stream",
     "text": [
      "2996         broken\n",
      "304         silkcut\n",
      "7588         broken\n",
      "7047         broken\n",
      "10494          pure\n",
      "            ...    \n",
      "6107           pure\n",
      "12606          pure\n",
      "408          broken\n",
      "6908           pure\n",
      "1608     discolored\n",
      "Name: label, Length: 2865, dtype: object\n",
      "['pure' 'pure' 'pure' ... 'pure' 'pure' 'pure']\n",
      "pure          1159\n",
      "broken         921\n",
      "discolored     507\n",
      "silkcut        278\n",
      "Name: label, dtype: int64\n",
      "Accuracy: 0.4272251308900524\n"
     ]
    }
   ],
   "source": [
    "from sklearn.metrics import accuracy_score\n",
    "print(y_test)\n",
    "print(y_pred)\n",
    "print(y_test.value_counts())\n",
    "\n",
    "print(\"Accuracy:\", accuracy_score(y_test, y_pred)) # .427 ... this would be ok, but honestly I think its because the model is just predicting the most common case a lot. "
   ]
  },
  {
   "cell_type": "code",
   "execution_count": 17,
   "metadata": {},
   "outputs": [
    {
     "name": "stdout",
     "output_type": "stream",
     "text": [
      "<class 'numpy.ndarray'> <class 'pandas.core.series.Series'>\n"
     ]
    },
    {
     "data": {
      "image/png": "[encoded data removed]",
      "text/plain": [
       "<Figure size 640x480 with 1 Axes>"
      ]
     },
     "metadata": {},
     "output_type": "display_data"
    }
   ],
   "source": [
    "print(type(y_pred), type(y_test))\n",
    "pred_series = pd.Series(y_pred)\n",
    "#pred_series.hist(bins=len(set(y_pred)), rwidth=0.8)\n",
    "ax = pred_series.value_counts().plot(kind='bar')\n",
    "plt.xlabel('Labels')\n",
    "plt.ylabel('Count')\n",
    "plt.title('Predictions Distribution')\n",
    "\n",
    "for i, v in enumerate(pred_series.value_counts()):\n",
    "    ax.text(x=i, y=v + 0.5, s=v, ha='center', fontsize=10)\n",
    "    \n",
    "plt.show()"
   ]
  },
  {
   "cell_type": "code",
   "execution_count": 14,
   "metadata": {},
   "outputs": [
    {
     "data": {
      "text/plain": [
       "pure          2757\n",
       "broken          92\n",
       "silkcut          9\n",
       "discolored       7\n",
       "dtype: int64"
      ]
     },
     "execution_count": 14,
     "metadata": {},
     "output_type": "execute_result"
    }
   ],
   "source": [
    "pred_series.value_counts()"
   ]
  },
  {
   "attachments": {},
   "cell_type": "markdown",
   "metadata": {},
   "source": [
    "## Cross Validation to find Neighbor number"
   ]
  },
  {
   "cell_type": "code",
   "execution_count": 21,
   "metadata": {},
   "outputs": [],
   "source": [
    "from sklearn.model_selection import KFold, cross_val_score"
   ]
  },
  {
   "cell_type": "code",
   "execution_count": 25,
   "metadata": {},
   "outputs": [
    {
     "name": "stdout",
     "output_type": "stream",
     "text": [
      "[0.43237347 0.44197208 0.4465299  0.4373636  0.43954605]\n",
      "Neighbors: 1, Avg. Accuracy: 0.4396\n",
      "[0.42670157 0.45855148 0.44827586 0.43867307 0.43037975]\n",
      "Neighbors: 3, Avg. Accuracy: 0.4405\n",
      "[0.42495637 0.45724258 0.44565692 0.43998254 0.41946748]\n",
      "Neighbors: 5, Avg. Accuracy: 0.4375\n",
      "[0.42146597 0.44502618 0.44565692 0.43212571 0.41510258]\n",
      "Neighbors: 7, Avg. Accuracy: 0.4319\n",
      "[0.42102967 0.44153578 0.43910956 0.42688782 0.41772152]\n",
      "Neighbors: 9, Avg. Accuracy: 0.4293\n",
      "[0.41535777 0.44022688 0.4373636  0.42077695 0.41684854]\n",
      "Neighbors: 11, Avg. Accuracy: 0.4261\n",
      "[0.41317627 0.43848168 0.43605412 0.42383239 0.41292012]\n",
      "Neighbors: 13, Avg. Accuracy: 0.4249\n",
      "[0.41317627 0.43630017 0.4325622  0.41990397 0.41161065]\n",
      "Neighbors: 15, Avg. Accuracy: 0.4227\n",
      "[0.40968586 0.43106457 0.43081624 0.41815801 0.4094282 ]\n",
      "Neighbors: 17, Avg. Accuracy: 0.4198\n",
      "[0.40968586 0.43106457 0.42994326 0.41422959 0.40986469]\n",
      "Neighbors: 20, Avg. Accuracy: 0.4190\n",
      "[0.40837696 0.43106457 0.42514186 0.41510258 0.40724574]\n",
      "Neighbors: 25, Avg. Accuracy: 0.4174\n",
      "[0.40401396 0.42626527 0.42514186 0.41248363 0.4046268 ]\n",
      "Neighbors: 35, Avg. Accuracy: 0.4145\n",
      "[0.40008726 0.42495637 0.42121344 0.40899171 0.40331733]\n",
      "Neighbors: 50, Avg. Accuracy: 0.4117\n"
     ]
    }
   ],
   "source": [
    "folds = 5\n",
    "kf = KFold(n_splits=folds, shuffle=True, random_state=20)\n",
    "\n",
    "num_neighbors = [1, 3, 5, 7, 9, 11, 13, 15, 17, 20, 25, 35, 50]\n",
    "\n",
    "avg_accuracies = []\n",
    "\n",
    "for neighbors in num_neighbors:\n",
    "    # Create a KNN classifier with the current number of neighbors\n",
    "    knn = KNeighborsClassifier(n_neighbors=neighbors)\n",
    "\n",
    "    # Calculate the cross-validated accuracy for the current number of neighbors\n",
    "    cv_accuracies = cross_val_score(knn, X_train, y_train, cv=kf, scoring='accuracy')\n",
    "    print(cv_accuracies)\n",
    "    # Compute the average accuracy across the folds\n",
    "    avg_accuracy = np.mean(cv_accuracies)\n",
    "    avg_accuracies.append(avg_accuracy)\n",
    "\n",
    "    print(f\"Neighbors: {neighbors}, Avg. Accuracy: {avg_accuracy:.4f}\")\n",
    "\n"
   ]
  },
  {
   "cell_type": "code",
   "execution_count": 24,
   "metadata": {},
   "outputs": [
    {
     "name": "stdout",
     "output_type": "stream",
     "text": [
      "\n",
      "Best number of neighbors: 3\n"
     ]
    }
   ],
   "source": [
    "# Find the best number of neighbors based on the highest average accuracy\n",
    "best_neighbors = num_neighbors[np.argmax(avg_accuracies)]\n",
    "print(f\"\\nBest number of neighbors: {best_neighbors}\")"
   ]
  },
  {
   "cell_type": "code",
   "execution_count": null,
   "metadata": {},
   "outputs": [],
   "source": []
  },
  {
   "cell_type": "code",
   "execution_count": null,
   "metadata": {},
   "outputs": [],
   "source": []
  }
 ],
 "metadata": {
  "kernelspec": {
   "display_name": "Python 3",
   "language": "python",
   "name": "python3"
  },
  "language_info": {
   "codemirror_mode": {
    "name": "ipython",
    "version": 3
   },
   "file_extension": ".py",
   "mimetype": "text/x-python",
   "name": "python",
   "nbconvert_exporter": "python",
   "pygments_lexer": "ipython3",
   "version": "3.10.4"
  },
  "orig_nbformat": 4
 },
 "nbformat": 4,
 "nbformat_minor": 2
}
